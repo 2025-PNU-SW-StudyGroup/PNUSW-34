{
  "nbformat": 4,
  "nbformat_minor": 0,
  "metadata": {
    "colab": {
      "provenance": []
    },
    "kernelspec": {
      "name": "python3",
      "display_name": "Python 3"
    },
    "language_info": {
      "name": "python"
    }
  },
  "cells": [
    {
      "cell_type": "markdown",
      "source": [
        "#2024년 수원서베이 데이터"
      ],
      "metadata": {
        "id": "nSltgVo4YTrO"
      }
    },
    {
      "cell_type": "markdown",
      "source": [
        "데이터 불러오기\n"
      ],
      "metadata": {
        "id": "yJUiNKtqVQ-3"
      }
    },
    {
      "cell_type": "code",
      "source": [
        "from google.colab import drive\n",
        "drive.mount('/content/drive')"
      ],
      "metadata": {
        "colab": {
          "base_uri": "https://localhost:8080/"
        },
        "id": "9TC2gLQ1SyMI",
        "outputId": "ab5f905c-9922-4297-c0b3-b24dd0d6c636"
      },
      "execution_count": 1,
      "outputs": [
        {
          "output_type": "stream",
          "name": "stdout",
          "text": [
            "Mounted at /content/drive\n"
          ]
        }
      ]
    },
    {
      "cell_type": "code",
      "execution_count": 2,
      "metadata": {
        "colab": {
          "base_uri": "https://localhost:8080/"
        },
        "id": "E8lcwas8REOc",
        "outputId": "03717e35-791c-4a9b-dc96-b0e884e719fe"
      },
      "outputs": [
        {
          "output_type": "stream",
          "name": "stdout",
          "text": [
            "  응답자 PID (가구용) 문0. 가구 정보 - 1. 거주 주택 유형 (가구용) 문0. 가구 정보 - 2. 1인 가구 여부  \\\n",
            "0     PID                          H0a1                          H0a2   \n",
            "1   29715                             1                             1   \n",
            "2   51295                             1                             2   \n",
            "3   52982                             1                             2   \n",
            "4   54416                             1                             2   \n",
            "\n",
            "  (가구용) 문0. 가구 정보 - 3. 맞벌이 여부(가구주 기준) (가구용) 문0. 응답자 성별 (가구용) 문0. 응답자 출생연도  \\\n",
            "0                                H0a3           gender              birth   \n",
            "1                                   3                1               1992   \n",
            "2                                   1                2               1981   \n",
            "3                                   2                1               1977   \n",
            "4                                   2                1               1975   \n",
            "\n",
            "  (가구용) 문0. 총 가구원 수 (가구용) 문0. 가구원1 가구대표자(응답자)와의 관계  \\\n",
            "0              H0a4                         H0a5n1   \n",
            "1                 1                              1   \n",
            "2                 4                              2   \n",
            "3                 5                              1   \n",
            "4                 4                              2   \n",
            "\n",
            "  (가구용) 문0. 가구원1 가구대표자(응답자)와의 관계_기타 (가구용) 문0. 가구원1 성별  ...  정책 관심도 수원시정 만족도  \\\n",
            "0                          H0a5opn1            H0a9n1  ...  SCORE1   SCORE2   \n",
            "1                               NaN                 1  ...       2        1   \n",
            "2                               NaN                 1  ...       2        3   \n",
            "3                               NaN                 1  ...       2        3   \n",
            "4                               NaN                 2  ...       2        3   \n",
            "\n",
            "  한 주간 삶의 질_평균(7점) 영역별 행복 정도_평균(10점) 환경 만족도_평균(7점) 한 주간 삶의 질_평균(100점)  \\\n",
            "0              MQ1               MQ2           MQ4               MHQ1   \n",
            "1                4               5.6           4.6                 50   \n",
            "2         4.857143                 8           5.3          64.285714   \n",
            "3         4.571429               5.6           5.1           59.52381   \n",
            "4         3.285714               7.2           4.1          38.095238   \n",
            "\n",
            "  영역별 행복 정도_평균(100점) 환경 만족도_평균(100점)       모수가중치     표본가중치  \n",
            "0               MHQ2            MHQ4          wg        ws  \n",
            "1                 56            60.0         241  0.729643  \n",
            "2                 80       71.666667  202.384615  0.612732  \n",
            "3                 56       68.333333         212  0.641843  \n",
            "4                 72       51.666667  318.416667  0.964027  \n",
            "\n",
            "[5 rows x 481 columns]\n"
          ]
        }
      ],
      "source": [
        "import pandas as pd\n",
        "\n",
        "file_path = '/content/drive/MyDrive/suwon/(HRC250604) 2024년 수원서베이 용역_공개용 데이터(엑셀).xlsx'\n",
        "\n",
        "# .xlsx 파일 읽기\n",
        "df_survey24 = pd.read_excel(file_path)\n",
        "print(df_survey24.head())"
      ]
    },
    {
      "cell_type": "markdown",
      "source": [
        "1인 가구 수 찾기"
      ],
      "metadata": {
        "id": "bdH_aqLwVJK-"
      }
    },
    {
      "cell_type": "code",
      "source": [
        "question_code1 = \"H0a2\"\n",
        "\n",
        "code_row1 = df_survey24.iloc[0]  # 첫 번째 행에는 문항 코드 존재\n",
        "target_col1 = code_row1[code_row1 == question_code1].index[0]  # \"H0a2\"가 위치한 열 이름\n",
        "\n",
        "# 해당 열의 데이터만 추출하여 1인가구 수 세기\n",
        "response_series = df_survey24[target_col1].iloc[1:]\n",
        "count_result = response_series.value_counts().sort_index()\n",
        "\n",
        "# 라벨링\n",
        "label_map1 = {\n",
        "    1: \"1인 가구 수\",\n",
        "    2: \"다인 가구 수\"\n",
        "}\n",
        "\n",
        "# 결과 출력\n",
        "for code, label in label_map1.items():\n",
        "    count = count_result.get(code, 0)\n",
        "    print(f\"{label}: {count}명\")"
      ],
      "metadata": {
        "colab": {
          "base_uri": "https://localhost:8080/"
        },
        "id": "v6bX1gCMRzwq",
        "outputId": "c1248c7e-cd66-4e90-ce26-17e5d55d01b0"
      },
      "execution_count": 3,
      "outputs": [
        {
          "output_type": "stream",
          "name": "stdout",
          "text": [
            "1인 가구 수: 1077명\n",
            "다인 가구 수: 1980명\n"
          ]
        }
      ]
    },
    {
      "cell_type": "code",
      "source": [
        "df_all = df_survey24.copy()\n",
        "\n",
        "# only1_df : 1인가구 응답자 데이터만 모음\n",
        "df_only_responses = df_all.iloc[1:]\n",
        "only1_df_before = df_only_responses[df_only_responses[target_col1] == 1]\n",
        "only1_df_before = only1_df_before.dropna(axis=1, how='all')\n",
        "\n",
        "# 문항 코드 행도 동일한 컬럼만 유지\n",
        "code_row_filtered = df_all.iloc[[0]][only1_df_before.columns]\n",
        "only1_df = pd.concat([code_row_filtered, only1_df_before], ignore_index=True)\n",
        "\n",
        "# 결과 확인\n",
        "only1_df.head()"
      ],
      "metadata": {
        "colab": {
          "base_uri": "https://localhost:8080/",
          "height": 322
        },
        "id": "8q7hMwUEbvWo",
        "outputId": "95ecf0d0-55f6-4b86-9464-d9bc0b362e30"
      },
      "execution_count": 4,
      "outputs": [
        {
          "output_type": "execute_result",
          "data": {
            "text/plain": [
              "  응답자 PID (가구용) 문0. 가구 정보 - 1. 거주 주택 유형 (가구용) 문0. 가구 정보 - 2. 1인 가구 여부  \\\n",
              "0     PID                          H0a1                          H0a2   \n",
              "1   29715                             1                             1   \n",
              "2  140541                             2                             1   \n",
              "3  146275                             2                             1   \n",
              "4  217354                             2                             1   \n",
              "\n",
              "  (가구용) 문0. 가구 정보 - 3. 맞벌이 여부(가구주 기준) (가구용) 문0. 응답자 성별 (가구용) 문0. 응답자 출생연도  \\\n",
              "0                                H0a3           gender              birth   \n",
              "1                                   3                1               1992   \n",
              "2                                   3                2               1975   \n",
              "3                                   3                1               1991   \n",
              "4                                   3                1               1975   \n",
              "\n",
              "  (가구용) 문0. 총 가구원 수 (가구용) 문0. 가구원1 가구대표자(응답자)와의 관계 (가구용) 문0. 가구원1 성별  \\\n",
              "0              H0a4                         H0a5n1            H0a9n1   \n",
              "1                 1                              1                 1   \n",
              "2                 1                              1                 2   \n",
              "3                 1                              1                 1   \n",
              "4                 1                              1                 1   \n",
              "\n",
              "  (가구용) 문0. 가구원1 출생년도  ...  정책 관심도 수원시정 만족도 한 주간 삶의 질_평균(7점)  \\\n",
              "0             H0a10n1  ...  SCORE1   SCORE2              MQ1   \n",
              "1                1992  ...       2        1                4   \n",
              "2                1975  ...       2        3         5.428571   \n",
              "3                1991  ...       2        2                4   \n",
              "4                1975  ...       1        1         4.714286   \n",
              "\n",
              "  영역별 행복 정도_평균(10점) 환경 만족도_평균(7점) 한 주간 삶의 질_평균(100점) 영역별 행복 정도_평균(100점)  \\\n",
              "0               MQ2           MQ4               MHQ1               MHQ2   \n",
              "1               5.6           4.6                 50                 56   \n",
              "2               7.2           5.1          73.809524                 72   \n",
              "3               4.4           3.5                 50                 44   \n",
              "4               4.4           3.7          61.904762                 44   \n",
              "\n",
              "  환경 만족도_평균(100점)       모수가중치     표본가중치  \n",
              "0            MHQ4          wg        ws  \n",
              "1            60.0         241  0.729643  \n",
              "2       68.333333  371.888889  1.125917  \n",
              "3       41.666667  366.111111  1.108424  \n",
              "4            45.0       836.5  2.532556  \n",
              "\n",
              "[5 rows x 397 columns]"
            ],
            "text/html": [
              "\n",
              "  <div id=\"df-a8d9a935-763e-425d-93ff-e259632b701f\" class=\"colab-df-container\">\n",
              "    <div>\n",
              "<style scoped>\n",
              "    .dataframe tbody tr th:only-of-type {\n",
              "        vertical-align: middle;\n",
              "    }\n",
              "\n",
              "    .dataframe tbody tr th {\n",
              "        vertical-align: top;\n",
              "    }\n",
              "\n",
              "    .dataframe thead th {\n",
              "        text-align: right;\n",
              "    }\n",
              "</style>\n",
              "<table border=\"1\" class=\"dataframe\">\n",
              "  <thead>\n",
              "    <tr style=\"text-align: right;\">\n",
              "      <th></th>\n",
              "      <th>응답자 PID</th>\n",
              "      <th>(가구용) 문0. 가구 정보 - 1. 거주 주택 유형</th>\n",
              "      <th>(가구용) 문0. 가구 정보 - 2. 1인 가구 여부</th>\n",
              "      <th>(가구용) 문0. 가구 정보 - 3. 맞벌이 여부(가구주 기준)</th>\n",
              "      <th>(가구용) 문0. 응답자 성별</th>\n",
              "      <th>(가구용) 문0. 응답자 출생연도</th>\n",
              "      <th>(가구용) 문0. 총 가구원 수</th>\n",
              "      <th>(가구용) 문0. 가구원1 가구대표자(응답자)와의 관계</th>\n",
              "      <th>(가구용) 문0. 가구원1 성별</th>\n",
              "      <th>(가구용) 문0. 가구원1 출생년도</th>\n",
              "      <th>...</th>\n",
              "      <th>정책 관심도</th>\n",
              "      <th>수원시정 만족도</th>\n",
              "      <th>한 주간 삶의 질_평균(7점)</th>\n",
              "      <th>영역별 행복 정도_평균(10점)</th>\n",
              "      <th>환경 만족도_평균(7점)</th>\n",
              "      <th>한 주간 삶의 질_평균(100점)</th>\n",
              "      <th>영역별 행복 정도_평균(100점)</th>\n",
              "      <th>환경 만족도_평균(100점)</th>\n",
              "      <th>모수가중치</th>\n",
              "      <th>표본가중치</th>\n",
              "    </tr>\n",
              "  </thead>\n",
              "  <tbody>\n",
              "    <tr>\n",
              "      <th>0</th>\n",
              "      <td>PID</td>\n",
              "      <td>H0a1</td>\n",
              "      <td>H0a2</td>\n",
              "      <td>H0a3</td>\n",
              "      <td>gender</td>\n",
              "      <td>birth</td>\n",
              "      <td>H0a4</td>\n",
              "      <td>H0a5n1</td>\n",
              "      <td>H0a9n1</td>\n",
              "      <td>H0a10n1</td>\n",
              "      <td>...</td>\n",
              "      <td>SCORE1</td>\n",
              "      <td>SCORE2</td>\n",
              "      <td>MQ1</td>\n",
              "      <td>MQ2</td>\n",
              "      <td>MQ4</td>\n",
              "      <td>MHQ1</td>\n",
              "      <td>MHQ2</td>\n",
              "      <td>MHQ4</td>\n",
              "      <td>wg</td>\n",
              "      <td>ws</td>\n",
              "    </tr>\n",
              "    <tr>\n",
              "      <th>1</th>\n",
              "      <td>29715</td>\n",
              "      <td>1</td>\n",
              "      <td>1</td>\n",
              "      <td>3</td>\n",
              "      <td>1</td>\n",
              "      <td>1992</td>\n",
              "      <td>1</td>\n",
              "      <td>1</td>\n",
              "      <td>1</td>\n",
              "      <td>1992</td>\n",
              "      <td>...</td>\n",
              "      <td>2</td>\n",
              "      <td>1</td>\n",
              "      <td>4</td>\n",
              "      <td>5.6</td>\n",
              "      <td>4.6</td>\n",
              "      <td>50</td>\n",
              "      <td>56</td>\n",
              "      <td>60.0</td>\n",
              "      <td>241</td>\n",
              "      <td>0.729643</td>\n",
              "    </tr>\n",
              "    <tr>\n",
              "      <th>2</th>\n",
              "      <td>140541</td>\n",
              "      <td>2</td>\n",
              "      <td>1</td>\n",
              "      <td>3</td>\n",
              "      <td>2</td>\n",
              "      <td>1975</td>\n",
              "      <td>1</td>\n",
              "      <td>1</td>\n",
              "      <td>2</td>\n",
              "      <td>1975</td>\n",
              "      <td>...</td>\n",
              "      <td>2</td>\n",
              "      <td>3</td>\n",
              "      <td>5.428571</td>\n",
              "      <td>7.2</td>\n",
              "      <td>5.1</td>\n",
              "      <td>73.809524</td>\n",
              "      <td>72</td>\n",
              "      <td>68.333333</td>\n",
              "      <td>371.888889</td>\n",
              "      <td>1.125917</td>\n",
              "    </tr>\n",
              "    <tr>\n",
              "      <th>3</th>\n",
              "      <td>146275</td>\n",
              "      <td>2</td>\n",
              "      <td>1</td>\n",
              "      <td>3</td>\n",
              "      <td>1</td>\n",
              "      <td>1991</td>\n",
              "      <td>1</td>\n",
              "      <td>1</td>\n",
              "      <td>1</td>\n",
              "      <td>1991</td>\n",
              "      <td>...</td>\n",
              "      <td>2</td>\n",
              "      <td>2</td>\n",
              "      <td>4</td>\n",
              "      <td>4.4</td>\n",
              "      <td>3.5</td>\n",
              "      <td>50</td>\n",
              "      <td>44</td>\n",
              "      <td>41.666667</td>\n",
              "      <td>366.111111</td>\n",
              "      <td>1.108424</td>\n",
              "    </tr>\n",
              "    <tr>\n",
              "      <th>4</th>\n",
              "      <td>217354</td>\n",
              "      <td>2</td>\n",
              "      <td>1</td>\n",
              "      <td>3</td>\n",
              "      <td>1</td>\n",
              "      <td>1975</td>\n",
              "      <td>1</td>\n",
              "      <td>1</td>\n",
              "      <td>1</td>\n",
              "      <td>1975</td>\n",
              "      <td>...</td>\n",
              "      <td>1</td>\n",
              "      <td>1</td>\n",
              "      <td>4.714286</td>\n",
              "      <td>4.4</td>\n",
              "      <td>3.7</td>\n",
              "      <td>61.904762</td>\n",
              "      <td>44</td>\n",
              "      <td>45.0</td>\n",
              "      <td>836.5</td>\n",
              "      <td>2.532556</td>\n",
              "    </tr>\n",
              "  </tbody>\n",
              "</table>\n",
              "<p>5 rows × 397 columns</p>\n",
              "</div>\n",
              "    <div class=\"colab-df-buttons\">\n",
              "\n",
              "  <div class=\"colab-df-container\">\n",
              "    <button class=\"colab-df-convert\" onclick=\"convertToInteractive('df-a8d9a935-763e-425d-93ff-e259632b701f')\"\n",
              "            title=\"Convert this dataframe to an interactive table.\"\n",
              "            style=\"display:none;\">\n",
              "\n",
              "  <svg xmlns=\"http://www.w3.org/2000/svg\" height=\"24px\" viewBox=\"0 -960 960 960\">\n",
              "    <path d=\"M120-120v-720h720v720H120Zm60-500h600v-160H180v160Zm220 220h160v-160H400v160Zm0 220h160v-160H400v160ZM180-400h160v-160H180v160Zm440 0h160v-160H620v160ZM180-180h160v-160H180v160Zm440 0h160v-160H620v160Z\"/>\n",
              "  </svg>\n",
              "    </button>\n",
              "\n",
              "  <style>\n",
              "    .colab-df-container {\n",
              "      display:flex;\n",
              "      gap: 12px;\n",
              "    }\n",
              "\n",
              "    .colab-df-convert {\n",
              "      background-color: #E8F0FE;\n",
              "      border: none;\n",
              "      border-radius: 50%;\n",
              "      cursor: pointer;\n",
              "      display: none;\n",
              "      fill: #1967D2;\n",
              "      height: 32px;\n",
              "      padding: 0 0 0 0;\n",
              "      width: 32px;\n",
              "    }\n",
              "\n",
              "    .colab-df-convert:hover {\n",
              "      background-color: #E2EBFA;\n",
              "      box-shadow: 0px 1px 2px rgba(60, 64, 67, 0.3), 0px 1px 3px 1px rgba(60, 64, 67, 0.15);\n",
              "      fill: #174EA6;\n",
              "    }\n",
              "\n",
              "    .colab-df-buttons div {\n",
              "      margin-bottom: 4px;\n",
              "    }\n",
              "\n",
              "    [theme=dark] .colab-df-convert {\n",
              "      background-color: #3B4455;\n",
              "      fill: #D2E3FC;\n",
              "    }\n",
              "\n",
              "    [theme=dark] .colab-df-convert:hover {\n",
              "      background-color: #434B5C;\n",
              "      box-shadow: 0px 1px 3px 1px rgba(0, 0, 0, 0.15);\n",
              "      filter: drop-shadow(0px 1px 2px rgba(0, 0, 0, 0.3));\n",
              "      fill: #FFFFFF;\n",
              "    }\n",
              "  </style>\n",
              "\n",
              "    <script>\n",
              "      const buttonEl =\n",
              "        document.querySelector('#df-a8d9a935-763e-425d-93ff-e259632b701f button.colab-df-convert');\n",
              "      buttonEl.style.display =\n",
              "        google.colab.kernel.accessAllowed ? 'block' : 'none';\n",
              "\n",
              "      async function convertToInteractive(key) {\n",
              "        const element = document.querySelector('#df-a8d9a935-763e-425d-93ff-e259632b701f');\n",
              "        const dataTable =\n",
              "          await google.colab.kernel.invokeFunction('convertToInteractive',\n",
              "                                                    [key], {});\n",
              "        if (!dataTable) return;\n",
              "\n",
              "        const docLinkHtml = 'Like what you see? Visit the ' +\n",
              "          '<a target=\"_blank\" href=https://colab.research.google.com/notebooks/data_table.ipynb>data table notebook</a>'\n",
              "          + ' to learn more about interactive tables.';\n",
              "        element.innerHTML = '';\n",
              "        dataTable['output_type'] = 'display_data';\n",
              "        await google.colab.output.renderOutput(dataTable, element);\n",
              "        const docLink = document.createElement('div');\n",
              "        docLink.innerHTML = docLinkHtml;\n",
              "        element.appendChild(docLink);\n",
              "      }\n",
              "    </script>\n",
              "  </div>\n",
              "\n",
              "\n",
              "    <div id=\"df-6e8a01b5-1185-4232-b6cc-d0bbffd50cf2\">\n",
              "      <button class=\"colab-df-quickchart\" onclick=\"quickchart('df-6e8a01b5-1185-4232-b6cc-d0bbffd50cf2')\"\n",
              "                title=\"Suggest charts\"\n",
              "                style=\"display:none;\">\n",
              "\n",
              "<svg xmlns=\"http://www.w3.org/2000/svg\" height=\"24px\"viewBox=\"0 0 24 24\"\n",
              "     width=\"24px\">\n",
              "    <g>\n",
              "        <path d=\"M19 3H5c-1.1 0-2 .9-2 2v14c0 1.1.9 2 2 2h14c1.1 0 2-.9 2-2V5c0-1.1-.9-2-2-2zM9 17H7v-7h2v7zm4 0h-2V7h2v10zm4 0h-2v-4h2v4z\"/>\n",
              "    </g>\n",
              "</svg>\n",
              "      </button>\n",
              "\n",
              "<style>\n",
              "  .colab-df-quickchart {\n",
              "      --bg-color: #E8F0FE;\n",
              "      --fill-color: #1967D2;\n",
              "      --hover-bg-color: #E2EBFA;\n",
              "      --hover-fill-color: #174EA6;\n",
              "      --disabled-fill-color: #AAA;\n",
              "      --disabled-bg-color: #DDD;\n",
              "  }\n",
              "\n",
              "  [theme=dark] .colab-df-quickchart {\n",
              "      --bg-color: #3B4455;\n",
              "      --fill-color: #D2E3FC;\n",
              "      --hover-bg-color: #434B5C;\n",
              "      --hover-fill-color: #FFFFFF;\n",
              "      --disabled-bg-color: #3B4455;\n",
              "      --disabled-fill-color: #666;\n",
              "  }\n",
              "\n",
              "  .colab-df-quickchart {\n",
              "    background-color: var(--bg-color);\n",
              "    border: none;\n",
              "    border-radius: 50%;\n",
              "    cursor: pointer;\n",
              "    display: none;\n",
              "    fill: var(--fill-color);\n",
              "    height: 32px;\n",
              "    padding: 0;\n",
              "    width: 32px;\n",
              "  }\n",
              "\n",
              "  .colab-df-quickchart:hover {\n",
              "    background-color: var(--hover-bg-color);\n",
              "    box-shadow: 0 1px 2px rgba(60, 64, 67, 0.3), 0 1px 3px 1px rgba(60, 64, 67, 0.15);\n",
              "    fill: var(--button-hover-fill-color);\n",
              "  }\n",
              "\n",
              "  .colab-df-quickchart-complete:disabled,\n",
              "  .colab-df-quickchart-complete:disabled:hover {\n",
              "    background-color: var(--disabled-bg-color);\n",
              "    fill: var(--disabled-fill-color);\n",
              "    box-shadow: none;\n",
              "  }\n",
              "\n",
              "  .colab-df-spinner {\n",
              "    border: 2px solid var(--fill-color);\n",
              "    border-color: transparent;\n",
              "    border-bottom-color: var(--fill-color);\n",
              "    animation:\n",
              "      spin 1s steps(1) infinite;\n",
              "  }\n",
              "\n",
              "  @keyframes spin {\n",
              "    0% {\n",
              "      border-color: transparent;\n",
              "      border-bottom-color: var(--fill-color);\n",
              "      border-left-color: var(--fill-color);\n",
              "    }\n",
              "    20% {\n",
              "      border-color: transparent;\n",
              "      border-left-color: var(--fill-color);\n",
              "      border-top-color: var(--fill-color);\n",
              "    }\n",
              "    30% {\n",
              "      border-color: transparent;\n",
              "      border-left-color: var(--fill-color);\n",
              "      border-top-color: var(--fill-color);\n",
              "      border-right-color: var(--fill-color);\n",
              "    }\n",
              "    40% {\n",
              "      border-color: transparent;\n",
              "      border-right-color: var(--fill-color);\n",
              "      border-top-color: var(--fill-color);\n",
              "    }\n",
              "    60% {\n",
              "      border-color: transparent;\n",
              "      border-right-color: var(--fill-color);\n",
              "    }\n",
              "    80% {\n",
              "      border-color: transparent;\n",
              "      border-right-color: var(--fill-color);\n",
              "      border-bottom-color: var(--fill-color);\n",
              "    }\n",
              "    90% {\n",
              "      border-color: transparent;\n",
              "      border-bottom-color: var(--fill-color);\n",
              "    }\n",
              "  }\n",
              "</style>\n",
              "\n",
              "      <script>\n",
              "        async function quickchart(key) {\n",
              "          const quickchartButtonEl =\n",
              "            document.querySelector('#' + key + ' button');\n",
              "          quickchartButtonEl.disabled = true;  // To prevent multiple clicks.\n",
              "          quickchartButtonEl.classList.add('colab-df-spinner');\n",
              "          try {\n",
              "            const charts = await google.colab.kernel.invokeFunction(\n",
              "                'suggestCharts', [key], {});\n",
              "          } catch (error) {\n",
              "            console.error('Error during call to suggestCharts:', error);\n",
              "          }\n",
              "          quickchartButtonEl.classList.remove('colab-df-spinner');\n",
              "          quickchartButtonEl.classList.add('colab-df-quickchart-complete');\n",
              "        }\n",
              "        (() => {\n",
              "          let quickchartButtonEl =\n",
              "            document.querySelector('#df-6e8a01b5-1185-4232-b6cc-d0bbffd50cf2 button');\n",
              "          quickchartButtonEl.style.display =\n",
              "            google.colab.kernel.accessAllowed ? 'block' : 'none';\n",
              "        })();\n",
              "      </script>\n",
              "    </div>\n",
              "\n",
              "    </div>\n",
              "  </div>\n"
            ],
            "application/vnd.google.colaboratory.intrinsic+json": {
              "type": "dataframe",
              "variable_name": "only1_df"
            }
          },
          "metadata": {},
          "execution_count": 4
        }
      ]
    },
    {
      "cell_type": "code",
      "source": [
        "code_row = df_survey24.iloc[0]\n",
        "\n",
        "birth_col = code_row[code_row == \"birth\"].index[0]\n",
        "only1_responses = only1_df.iloc[1:]\n",
        "birth_series = pd.to_numeric(only1_responses[birth_col], errors='coerce')\n",
        "\n",
        "\n",
        "birth_filtered = only1_responses[(birth_series >= 1989) & (birth_series <= 2005)]\n",
        "only1_youth24 = pd.concat([only1_df.iloc[[0]], birth_filtered], ignore_index=True)\n",
        "\n",
        "only1_youth24.head()"
      ],
      "metadata": {
        "colab": {
          "base_uri": "https://localhost:8080/",
          "height": 322
        },
        "id": "Xif7BDmQVd8S",
        "outputId": "ceefb4ee-7093-4ee2-a2c0-e21342b728ad"
      },
      "execution_count": 6,
      "outputs": [
        {
          "output_type": "execute_result",
          "data": {
            "text/plain": [
              "  응답자 PID (가구용) 문0. 가구 정보 - 1. 거주 주택 유형 (가구용) 문0. 가구 정보 - 2. 1인 가구 여부  \\\n",
              "0     PID                          H0a1                          H0a2   \n",
              "1   29715                             1                             1   \n",
              "2  146275                             2                             1   \n",
              "3  236734                             1                             1   \n",
              "4  240889                             2                             1   \n",
              "\n",
              "  (가구용) 문0. 가구 정보 - 3. 맞벌이 여부(가구주 기준) (가구용) 문0. 응답자 성별 (가구용) 문0. 응답자 출생연도  \\\n",
              "0                                H0a3           gender              birth   \n",
              "1                                   3                1               1992   \n",
              "2                                   3                1               1991   \n",
              "3                                   3                2               1992   \n",
              "4                                   3                1               1992   \n",
              "\n",
              "  (가구용) 문0. 총 가구원 수 (가구용) 문0. 가구원1 가구대표자(응답자)와의 관계 (가구용) 문0. 가구원1 성별  \\\n",
              "0              H0a4                         H0a5n1            H0a9n1   \n",
              "1                 1                              1                 1   \n",
              "2                 1                              1                 1   \n",
              "3                 1                              1                 2   \n",
              "4                 1                              1                 1   \n",
              "\n",
              "  (가구용) 문0. 가구원1 출생년도  ...  정책 관심도 수원시정 만족도 한 주간 삶의 질_평균(7점)  \\\n",
              "0             H0a10n1  ...  SCORE1   SCORE2              MQ1   \n",
              "1                1992  ...       2        1                4   \n",
              "2                1991  ...       2        2                4   \n",
              "3                1992  ...       2        1         3.857143   \n",
              "4                1992  ...       1        2         4.428571   \n",
              "\n",
              "  영역별 행복 정도_평균(10점) 환경 만족도_평균(7점) 한 주간 삶의 질_평균(100점) 영역별 행복 정도_평균(100점)  \\\n",
              "0               MQ2           MQ4               MHQ1               MHQ2   \n",
              "1               5.6           4.6                 50                 56   \n",
              "2               4.4           3.5                 50                 44   \n",
              "3               6.6             5          47.619048                 66   \n",
              "4               4.6           3.7          57.142857                 46   \n",
              "\n",
              "  환경 만족도_평균(100점)       모수가중치     표본가중치  \n",
              "0            MHQ4          wg        ws  \n",
              "1            60.0         241  0.729643  \n",
              "2       41.666667  366.111111  1.108424  \n",
              "3       66.666667       366.6  1.109905  \n",
              "4            45.0  554.285714  1.678135  \n",
              "\n",
              "[5 rows x 397 columns]"
            ],
            "text/html": [
              "\n",
              "  <div id=\"df-ef98dc9f-b0ed-44da-b7ee-438487b32d47\" class=\"colab-df-container\">\n",
              "    <div>\n",
              "<style scoped>\n",
              "    .dataframe tbody tr th:only-of-type {\n",
              "        vertical-align: middle;\n",
              "    }\n",
              "\n",
              "    .dataframe tbody tr th {\n",
              "        vertical-align: top;\n",
              "    }\n",
              "\n",
              "    .dataframe thead th {\n",
              "        text-align: right;\n",
              "    }\n",
              "</style>\n",
              "<table border=\"1\" class=\"dataframe\">\n",
              "  <thead>\n",
              "    <tr style=\"text-align: right;\">\n",
              "      <th></th>\n",
              "      <th>응답자 PID</th>\n",
              "      <th>(가구용) 문0. 가구 정보 - 1. 거주 주택 유형</th>\n",
              "      <th>(가구용) 문0. 가구 정보 - 2. 1인 가구 여부</th>\n",
              "      <th>(가구용) 문0. 가구 정보 - 3. 맞벌이 여부(가구주 기준)</th>\n",
              "      <th>(가구용) 문0. 응답자 성별</th>\n",
              "      <th>(가구용) 문0. 응답자 출생연도</th>\n",
              "      <th>(가구용) 문0. 총 가구원 수</th>\n",
              "      <th>(가구용) 문0. 가구원1 가구대표자(응답자)와의 관계</th>\n",
              "      <th>(가구용) 문0. 가구원1 성별</th>\n",
              "      <th>(가구용) 문0. 가구원1 출생년도</th>\n",
              "      <th>...</th>\n",
              "      <th>정책 관심도</th>\n",
              "      <th>수원시정 만족도</th>\n",
              "      <th>한 주간 삶의 질_평균(7점)</th>\n",
              "      <th>영역별 행복 정도_평균(10점)</th>\n",
              "      <th>환경 만족도_평균(7점)</th>\n",
              "      <th>한 주간 삶의 질_평균(100점)</th>\n",
              "      <th>영역별 행복 정도_평균(100점)</th>\n",
              "      <th>환경 만족도_평균(100점)</th>\n",
              "      <th>모수가중치</th>\n",
              "      <th>표본가중치</th>\n",
              "    </tr>\n",
              "  </thead>\n",
              "  <tbody>\n",
              "    <tr>\n",
              "      <th>0</th>\n",
              "      <td>PID</td>\n",
              "      <td>H0a1</td>\n",
              "      <td>H0a2</td>\n",
              "      <td>H0a3</td>\n",
              "      <td>gender</td>\n",
              "      <td>birth</td>\n",
              "      <td>H0a4</td>\n",
              "      <td>H0a5n1</td>\n",
              "      <td>H0a9n1</td>\n",
              "      <td>H0a10n1</td>\n",
              "      <td>...</td>\n",
              "      <td>SCORE1</td>\n",
              "      <td>SCORE2</td>\n",
              "      <td>MQ1</td>\n",
              "      <td>MQ2</td>\n",
              "      <td>MQ4</td>\n",
              "      <td>MHQ1</td>\n",
              "      <td>MHQ2</td>\n",
              "      <td>MHQ4</td>\n",
              "      <td>wg</td>\n",
              "      <td>ws</td>\n",
              "    </tr>\n",
              "    <tr>\n",
              "      <th>1</th>\n",
              "      <td>29715</td>\n",
              "      <td>1</td>\n",
              "      <td>1</td>\n",
              "      <td>3</td>\n",
              "      <td>1</td>\n",
              "      <td>1992</td>\n",
              "      <td>1</td>\n",
              "      <td>1</td>\n",
              "      <td>1</td>\n",
              "      <td>1992</td>\n",
              "      <td>...</td>\n",
              "      <td>2</td>\n",
              "      <td>1</td>\n",
              "      <td>4</td>\n",
              "      <td>5.6</td>\n",
              "      <td>4.6</td>\n",
              "      <td>50</td>\n",
              "      <td>56</td>\n",
              "      <td>60.0</td>\n",
              "      <td>241</td>\n",
              "      <td>0.729643</td>\n",
              "    </tr>\n",
              "    <tr>\n",
              "      <th>2</th>\n",
              "      <td>146275</td>\n",
              "      <td>2</td>\n",
              "      <td>1</td>\n",
              "      <td>3</td>\n",
              "      <td>1</td>\n",
              "      <td>1991</td>\n",
              "      <td>1</td>\n",
              "      <td>1</td>\n",
              "      <td>1</td>\n",
              "      <td>1991</td>\n",
              "      <td>...</td>\n",
              "      <td>2</td>\n",
              "      <td>2</td>\n",
              "      <td>4</td>\n",
              "      <td>4.4</td>\n",
              "      <td>3.5</td>\n",
              "      <td>50</td>\n",
              "      <td>44</td>\n",
              "      <td>41.666667</td>\n",
              "      <td>366.111111</td>\n",
              "      <td>1.108424</td>\n",
              "    </tr>\n",
              "    <tr>\n",
              "      <th>3</th>\n",
              "      <td>236734</td>\n",
              "      <td>1</td>\n",
              "      <td>1</td>\n",
              "      <td>3</td>\n",
              "      <td>2</td>\n",
              "      <td>1992</td>\n",
              "      <td>1</td>\n",
              "      <td>1</td>\n",
              "      <td>2</td>\n",
              "      <td>1992</td>\n",
              "      <td>...</td>\n",
              "      <td>2</td>\n",
              "      <td>1</td>\n",
              "      <td>3.857143</td>\n",
              "      <td>6.6</td>\n",
              "      <td>5</td>\n",
              "      <td>47.619048</td>\n",
              "      <td>66</td>\n",
              "      <td>66.666667</td>\n",
              "      <td>366.6</td>\n",
              "      <td>1.109905</td>\n",
              "    </tr>\n",
              "    <tr>\n",
              "      <th>4</th>\n",
              "      <td>240889</td>\n",
              "      <td>2</td>\n",
              "      <td>1</td>\n",
              "      <td>3</td>\n",
              "      <td>1</td>\n",
              "      <td>1992</td>\n",
              "      <td>1</td>\n",
              "      <td>1</td>\n",
              "      <td>1</td>\n",
              "      <td>1992</td>\n",
              "      <td>...</td>\n",
              "      <td>1</td>\n",
              "      <td>2</td>\n",
              "      <td>4.428571</td>\n",
              "      <td>4.6</td>\n",
              "      <td>3.7</td>\n",
              "      <td>57.142857</td>\n",
              "      <td>46</td>\n",
              "      <td>45.0</td>\n",
              "      <td>554.285714</td>\n",
              "      <td>1.678135</td>\n",
              "    </tr>\n",
              "  </tbody>\n",
              "</table>\n",
              "<p>5 rows × 397 columns</p>\n",
              "</div>\n",
              "    <div class=\"colab-df-buttons\">\n",
              "\n",
              "  <div class=\"colab-df-container\">\n",
              "    <button class=\"colab-df-convert\" onclick=\"convertToInteractive('df-ef98dc9f-b0ed-44da-b7ee-438487b32d47')\"\n",
              "            title=\"Convert this dataframe to an interactive table.\"\n",
              "            style=\"display:none;\">\n",
              "\n",
              "  <svg xmlns=\"http://www.w3.org/2000/svg\" height=\"24px\" viewBox=\"0 -960 960 960\">\n",
              "    <path d=\"M120-120v-720h720v720H120Zm60-500h600v-160H180v160Zm220 220h160v-160H400v160Zm0 220h160v-160H400v160ZM180-400h160v-160H180v160Zm440 0h160v-160H620v160ZM180-180h160v-160H180v160Zm440 0h160v-160H620v160Z\"/>\n",
              "  </svg>\n",
              "    </button>\n",
              "\n",
              "  <style>\n",
              "    .colab-df-container {\n",
              "      display:flex;\n",
              "      gap: 12px;\n",
              "    }\n",
              "\n",
              "    .colab-df-convert {\n",
              "      background-color: #E8F0FE;\n",
              "      border: none;\n",
              "      border-radius: 50%;\n",
              "      cursor: pointer;\n",
              "      display: none;\n",
              "      fill: #1967D2;\n",
              "      height: 32px;\n",
              "      padding: 0 0 0 0;\n",
              "      width: 32px;\n",
              "    }\n",
              "\n",
              "    .colab-df-convert:hover {\n",
              "      background-color: #E2EBFA;\n",
              "      box-shadow: 0px 1px 2px rgba(60, 64, 67, 0.3), 0px 1px 3px 1px rgba(60, 64, 67, 0.15);\n",
              "      fill: #174EA6;\n",
              "    }\n",
              "\n",
              "    .colab-df-buttons div {\n",
              "      margin-bottom: 4px;\n",
              "    }\n",
              "\n",
              "    [theme=dark] .colab-df-convert {\n",
              "      background-color: #3B4455;\n",
              "      fill: #D2E3FC;\n",
              "    }\n",
              "\n",
              "    [theme=dark] .colab-df-convert:hover {\n",
              "      background-color: #434B5C;\n",
              "      box-shadow: 0px 1px 3px 1px rgba(0, 0, 0, 0.15);\n",
              "      filter: drop-shadow(0px 1px 2px rgba(0, 0, 0, 0.3));\n",
              "      fill: #FFFFFF;\n",
              "    }\n",
              "  </style>\n",
              "\n",
              "    <script>\n",
              "      const buttonEl =\n",
              "        document.querySelector('#df-ef98dc9f-b0ed-44da-b7ee-438487b32d47 button.colab-df-convert');\n",
              "      buttonEl.style.display =\n",
              "        google.colab.kernel.accessAllowed ? 'block' : 'none';\n",
              "\n",
              "      async function convertToInteractive(key) {\n",
              "        const element = document.querySelector('#df-ef98dc9f-b0ed-44da-b7ee-438487b32d47');\n",
              "        const dataTable =\n",
              "          await google.colab.kernel.invokeFunction('convertToInteractive',\n",
              "                                                    [key], {});\n",
              "        if (!dataTable) return;\n",
              "\n",
              "        const docLinkHtml = 'Like what you see? Visit the ' +\n",
              "          '<a target=\"_blank\" href=https://colab.research.google.com/notebooks/data_table.ipynb>data table notebook</a>'\n",
              "          + ' to learn more about interactive tables.';\n",
              "        element.innerHTML = '';\n",
              "        dataTable['output_type'] = 'display_data';\n",
              "        await google.colab.output.renderOutput(dataTable, element);\n",
              "        const docLink = document.createElement('div');\n",
              "        docLink.innerHTML = docLinkHtml;\n",
              "        element.appendChild(docLink);\n",
              "      }\n",
              "    </script>\n",
              "  </div>\n",
              "\n",
              "\n",
              "    <div id=\"df-dbb5ee60-c023-45c8-9d90-17123d2d220a\">\n",
              "      <button class=\"colab-df-quickchart\" onclick=\"quickchart('df-dbb5ee60-c023-45c8-9d90-17123d2d220a')\"\n",
              "                title=\"Suggest charts\"\n",
              "                style=\"display:none;\">\n",
              "\n",
              "<svg xmlns=\"http://www.w3.org/2000/svg\" height=\"24px\"viewBox=\"0 0 24 24\"\n",
              "     width=\"24px\">\n",
              "    <g>\n",
              "        <path d=\"M19 3H5c-1.1 0-2 .9-2 2v14c0 1.1.9 2 2 2h14c1.1 0 2-.9 2-2V5c0-1.1-.9-2-2-2zM9 17H7v-7h2v7zm4 0h-2V7h2v10zm4 0h-2v-4h2v4z\"/>\n",
              "    </g>\n",
              "</svg>\n",
              "      </button>\n",
              "\n",
              "<style>\n",
              "  .colab-df-quickchart {\n",
              "      --bg-color: #E8F0FE;\n",
              "      --fill-color: #1967D2;\n",
              "      --hover-bg-color: #E2EBFA;\n",
              "      --hover-fill-color: #174EA6;\n",
              "      --disabled-fill-color: #AAA;\n",
              "      --disabled-bg-color: #DDD;\n",
              "  }\n",
              "\n",
              "  [theme=dark] .colab-df-quickchart {\n",
              "      --bg-color: #3B4455;\n",
              "      --fill-color: #D2E3FC;\n",
              "      --hover-bg-color: #434B5C;\n",
              "      --hover-fill-color: #FFFFFF;\n",
              "      --disabled-bg-color: #3B4455;\n",
              "      --disabled-fill-color: #666;\n",
              "  }\n",
              "\n",
              "  .colab-df-quickchart {\n",
              "    background-color: var(--bg-color);\n",
              "    border: none;\n",
              "    border-radius: 50%;\n",
              "    cursor: pointer;\n",
              "    display: none;\n",
              "    fill: var(--fill-color);\n",
              "    height: 32px;\n",
              "    padding: 0;\n",
              "    width: 32px;\n",
              "  }\n",
              "\n",
              "  .colab-df-quickchart:hover {\n",
              "    background-color: var(--hover-bg-color);\n",
              "    box-shadow: 0 1px 2px rgba(60, 64, 67, 0.3), 0 1px 3px 1px rgba(60, 64, 67, 0.15);\n",
              "    fill: var(--button-hover-fill-color);\n",
              "  }\n",
              "\n",
              "  .colab-df-quickchart-complete:disabled,\n",
              "  .colab-df-quickchart-complete:disabled:hover {\n",
              "    background-color: var(--disabled-bg-color);\n",
              "    fill: var(--disabled-fill-color);\n",
              "    box-shadow: none;\n",
              "  }\n",
              "\n",
              "  .colab-df-spinner {\n",
              "    border: 2px solid var(--fill-color);\n",
              "    border-color: transparent;\n",
              "    border-bottom-color: var(--fill-color);\n",
              "    animation:\n",
              "      spin 1s steps(1) infinite;\n",
              "  }\n",
              "\n",
              "  @keyframes spin {\n",
              "    0% {\n",
              "      border-color: transparent;\n",
              "      border-bottom-color: var(--fill-color);\n",
              "      border-left-color: var(--fill-color);\n",
              "    }\n",
              "    20% {\n",
              "      border-color: transparent;\n",
              "      border-left-color: var(--fill-color);\n",
              "      border-top-color: var(--fill-color);\n",
              "    }\n",
              "    30% {\n",
              "      border-color: transparent;\n",
              "      border-left-color: var(--fill-color);\n",
              "      border-top-color: var(--fill-color);\n",
              "      border-right-color: var(--fill-color);\n",
              "    }\n",
              "    40% {\n",
              "      border-color: transparent;\n",
              "      border-right-color: var(--fill-color);\n",
              "      border-top-color: var(--fill-color);\n",
              "    }\n",
              "    60% {\n",
              "      border-color: transparent;\n",
              "      border-right-color: var(--fill-color);\n",
              "    }\n",
              "    80% {\n",
              "      border-color: transparent;\n",
              "      border-right-color: var(--fill-color);\n",
              "      border-bottom-color: var(--fill-color);\n",
              "    }\n",
              "    90% {\n",
              "      border-color: transparent;\n",
              "      border-bottom-color: var(--fill-color);\n",
              "    }\n",
              "  }\n",
              "</style>\n",
              "\n",
              "      <script>\n",
              "        async function quickchart(key) {\n",
              "          const quickchartButtonEl =\n",
              "            document.querySelector('#' + key + ' button');\n",
              "          quickchartButtonEl.disabled = true;  // To prevent multiple clicks.\n",
              "          quickchartButtonEl.classList.add('colab-df-spinner');\n",
              "          try {\n",
              "            const charts = await google.colab.kernel.invokeFunction(\n",
              "                'suggestCharts', [key], {});\n",
              "          } catch (error) {\n",
              "            console.error('Error during call to suggestCharts:', error);\n",
              "          }\n",
              "          quickchartButtonEl.classList.remove('colab-df-spinner');\n",
              "          quickchartButtonEl.classList.add('colab-df-quickchart-complete');\n",
              "        }\n",
              "        (() => {\n",
              "          let quickchartButtonEl =\n",
              "            document.querySelector('#df-dbb5ee60-c023-45c8-9d90-17123d2d220a button');\n",
              "          quickchartButtonEl.style.display =\n",
              "            google.colab.kernel.accessAllowed ? 'block' : 'none';\n",
              "        })();\n",
              "      </script>\n",
              "    </div>\n",
              "\n",
              "    </div>\n",
              "  </div>\n"
            ],
            "application/vnd.google.colaboratory.intrinsic+json": {
              "type": "dataframe",
              "variable_name": "only1_youth24"
            }
          },
          "metadata": {},
          "execution_count": 6
        }
      ]
    },
    {
      "cell_type": "code",
      "source": [
        "only1_youth24.shape[0]"
      ],
      "metadata": {
        "colab": {
          "base_uri": "https://localhost:8080/"
        },
        "id": "Rs8N16yMVoxl",
        "outputId": "def4ef73-55db-4cce-9314-2e3a11511780"
      },
      "execution_count": 7,
      "outputs": [
        {
          "output_type": "execute_result",
          "data": {
            "text/plain": [
              "386"
            ]
          },
          "metadata": {},
          "execution_count": 7
        }
      ]
    },
    {
      "cell_type": "markdown",
      "source": [
        "1인가구 대상, 수원 시민들의 삶의 질 알아보기"
      ],
      "metadata": {
        "id": "E8Dcygp-dYAr"
      }
    },
    {
      "cell_type": "markdown",
      "source": [
        "1. 행복했다"
      ],
      "metadata": {
        "id": "CF3UMLcEd2Y1"
      }
    },
    {
      "cell_type": "code",
      "source": [
        "question_code2 = \"Q1a1\"\n",
        "\n",
        "code_row2 = only1_youth24.iloc[0]\n",
        "target_col2 = code_row2[code_row2 == question_code2].index[0]\n",
        "\n",
        "\n",
        "response_series = only1_youth24[target_col2].iloc[1:]\n",
        "count_result = response_series.value_counts().sort_index()\n",
        "\n",
        "\n",
        "label_map2 = {\n",
        "    1: \"① 전혀 그렇지 않다\",\n",
        "    2: \"② 많이 그렇지 않다\",\n",
        "    3: \"③ 조금 그렇지 않다\",\n",
        "    4: \"④ 보통\",\n",
        "    5: \"⑤ 약간 그렇다\",\n",
        "    6: \"⑥ 그렇다\",\n",
        "    7: \"⑦ 매우 그렇다\"\n",
        "}\n",
        "\n",
        "\n",
        "print(f'한주 간 삶의 질 - \"1. 행복했다\"')\n",
        "\n",
        "for code, label in label_map2.items():\n",
        "    count = count_result.get(code, 0)\n",
        "    print(f\"{label}: {count}명\")"
      ],
      "metadata": {
        "colab": {
          "base_uri": "https://localhost:8080/"
        },
        "id": "-ZLNIwlSWTyA",
        "outputId": "be04bb8a-1deb-4e51-809a-66f42ee1d6eb"
      },
      "execution_count": 8,
      "outputs": [
        {
          "output_type": "stream",
          "name": "stdout",
          "text": [
            "한주 간 삶의 질 - \"1. 행복했다\"\n",
            "① 전혀 그렇지 않다: 7명\n",
            "② 많이 그렇지 않다: 7명\n",
            "③ 조금 그렇지 않다: 14명\n",
            "④ 보통: 82명\n",
            "⑤ 약간 그렇다: 121명\n",
            "⑥ 그렇다: 127명\n",
            "⑦ 매우 그렇다: 27명\n"
          ]
        }
      ]
    },
    {
      "cell_type": "markdown",
      "source": [
        "2. 가치있는 존재라고 생각했다"
      ],
      "metadata": {
        "id": "vyU-Xdlad4XG"
      }
    },
    {
      "cell_type": "code",
      "source": [
        "question_code3 = \"Q1a2\"\n",
        "\n",
        "code_row3 = only1_youth24.iloc[0]\n",
        "target_col3 = code_row3[code_row3 == question_code3].index[0]\n",
        "\n",
        "\n",
        "response_series = only1_youth24[target_col3].iloc[1:]\n",
        "count_result = response_series.value_counts().sort_index()\n",
        "\n",
        "\n",
        "label_map3 = {\n",
        "    1: \"① 전혀 그렇지 않다\",\n",
        "    2: \"② 많이 그렇지 않다\",\n",
        "    3: \"③ 조금 그렇지 않다\",\n",
        "    4: \"④ 보통\",\n",
        "    5: \"⑤ 약간 그렇다\",\n",
        "    6: \"⑥ 그렇다\",\n",
        "    7: \"⑦ 매우 그렇다\"\n",
        "}\n",
        "\n",
        "\n",
        "print(f'한주 간 삶의 질 - \"2. 가치있는 존재라고 생각했다\"')\n",
        "\n",
        "for code, label in label_map3.items():\n",
        "    count = count_result.get(code, 0)\n",
        "    print(f\"{label}: {count}명\")"
      ],
      "metadata": {
        "colab": {
          "base_uri": "https://localhost:8080/"
        },
        "id": "Sg44LM49a2it",
        "outputId": "db8ebbf4-98b2-4337-e717-6c50bcec8455"
      },
      "execution_count": 9,
      "outputs": [
        {
          "output_type": "stream",
          "name": "stdout",
          "text": [
            "한주 간 삶의 질 - \"2. 가치있는 존재라고 생각했다\"\n",
            "① 전혀 그렇지 않다: 5명\n",
            "② 많이 그렇지 않다: 8명\n",
            "③ 조금 그렇지 않다: 21명\n",
            "④ 보통: 75명\n",
            "⑤ 약간 그렇다: 127명\n",
            "⑥ 그렇다: 107명\n",
            "⑦ 매우 그렇다: 42명\n"
          ]
        }
      ]
    },
    {
      "cell_type": "markdown",
      "source": [
        "3. 건강하다고 느꼈다"
      ],
      "metadata": {
        "id": "FYk9chCBd5zQ"
      }
    },
    {
      "cell_type": "code",
      "source": [
        "question_code4 = \"Q1a3\"\n",
        "\n",
        "code_row4 = only1_youth24.iloc[0]\n",
        "target_col4 = code_row4[code_row4 == question_code4].index[0]\n",
        "\n",
        "\n",
        "response_series = only1_youth24[target_col4].iloc[1:]\n",
        "count_result = response_series.value_counts().sort_index()\n",
        "\n",
        "\n",
        "label_map4 = {\n",
        "    1: \"① 전혀 그렇지 않다\",\n",
        "    2: \"② 별로 그렇지 않다\",\n",
        "    3: \"③ 조금 그렇지 않다\",\n",
        "    4: \"④ 보통\",\n",
        "    5: \"⑤ 약간 그렇다\",\n",
        "    6: \"⑥ 그렇다\",\n",
        "    7: \"⑦ 매우 그렇다\"\n",
        "}\n",
        "\n",
        "\n",
        "print(f'한주 간 삶의 질 - \"3. 건강하다고 느꼈다\"')\n",
        "\n",
        "for code, label in label_map4.items():\n",
        "    count = count_result.get(code, 0)\n",
        "    print(f\"{label}: {count}명\")"
      ],
      "metadata": {
        "colab": {
          "base_uri": "https://localhost:8080/"
        },
        "id": "m8ExZny7dJL9",
        "outputId": "5d3fa05b-9243-4bc2-b688-350ecb0b602f"
      },
      "execution_count": 10,
      "outputs": [
        {
          "output_type": "stream",
          "name": "stdout",
          "text": [
            "한주 간 삶의 질 - \"3. 건강하다고 느꼈다\"\n",
            "① 전혀 그렇지 않다: 5명\n",
            "② 별로 그렇지 않다: 13명\n",
            "③ 조금 그렇지 않다: 25명\n",
            "④ 보통: 66명\n",
            "⑤ 약간 그렇다: 116명\n",
            "⑥ 그렇다: 119명\n",
            "⑦ 매우 그렇다: 41명\n"
          ]
        }
      ]
    },
    {
      "cell_type": "markdown",
      "source": [
        "4. 내 삶에 대해 만족했다"
      ],
      "metadata": {
        "id": "NTf334R9d7Qe"
      }
    },
    {
      "cell_type": "code",
      "source": [
        "question_code5 = \"Q1a4\"\n",
        "\n",
        "code_row5 = only1_youth24.iloc[0]\n",
        "target_col5 = code_row5[code_row5 == question_code5].index[0]\n",
        "\n",
        "\n",
        "response_series = only1_youth24[target_col5].iloc[1:]\n",
        "count_result = response_series.value_counts().sort_index()\n",
        "\n",
        "\n",
        "label_map5 = {\n",
        "    1: \"① 전혀 그렇지 않다\",\n",
        "    2: \"② 별로 그렇지 않다\",\n",
        "    3: \"③ 조금 그렇지 않다\",\n",
        "    4: \"④ 보통\",\n",
        "    5: \"⑤ 약간 그렇다\",\n",
        "    6: \"⑥ 그렇다\",\n",
        "    7: \"⑦ 매우 그렇다\"\n",
        "}\n",
        "\n",
        "\n",
        "print(f'한주 간 삶의 질 - \"4. 내 삶에 대해 만족했다\"')\n",
        "\n",
        "for code, label in label_map5.items():\n",
        "    count = count_result.get(code, 0)\n",
        "    print(f\"{label}: {count}명\")"
      ],
      "metadata": {
        "colab": {
          "base_uri": "https://localhost:8080/"
        },
        "id": "PhNkCCL0dU2q",
        "outputId": "106fbb01-5c70-4bad-9895-8a5c1072910a"
      },
      "execution_count": 11,
      "outputs": [
        {
          "output_type": "stream",
          "name": "stdout",
          "text": [
            "한주 간 삶의 질 - \"4. 내 삶에 대해 만족했다\"\n",
            "① 전혀 그렇지 않다: 7명\n",
            "② 별로 그렇지 않다: 16명\n",
            "③ 조금 그렇지 않다: 28명\n",
            "④ 보통: 75명\n",
            "⑤ 약간 그렇다: 134명\n",
            "⑥ 그렇다: 98명\n",
            "⑦ 매우 그렇다: 27명\n"
          ]
        }
      ]
    },
    {
      "cell_type": "markdown",
      "source": [
        "5. 외로웠다"
      ],
      "metadata": {
        "id": "4BtmDHk4d8qp"
      }
    },
    {
      "cell_type": "code",
      "source": [
        "question_code6 = \"Q1a5\"\n",
        "\n",
        "code_row6 = only1_youth24.iloc[0]\n",
        "target_col6 = code_row6[code_row6 == question_code6].index[0]\n",
        "\n",
        "\n",
        "response_series = only1_youth24[target_col6].iloc[1:]\n",
        "count_result = response_series.value_counts().sort_index()\n",
        "\n",
        "\n",
        "label_map6 = {\n",
        "    1: \"① 전혀 그렇지 않다\",\n",
        "    2: \"② 별로 그렇지 않다\",\n",
        "    3: \"③ 조금 그렇지 않다\",\n",
        "    4: \"④ 보통\",\n",
        "    5: \"⑤ 약간 그렇다\",\n",
        "    6: \"⑥ 그렇다\",\n",
        "    7: \"⑦ 매우 그렇다\"\n",
        "}\n",
        "\n",
        "\n",
        "print(f'한주 간 삶의 질 - \"5. 외로웠다\"')\n",
        "\n",
        "for code, label in label_map6.items():\n",
        "    count = count_result.get(code, 0)\n",
        "    print(f\"{label}: {count}명\")"
      ],
      "metadata": {
        "colab": {
          "base_uri": "https://localhost:8080/"
        },
        "id": "ov5HnXdgdoG5",
        "outputId": "83e17998-cb07-4277-93f5-bd779e476980"
      },
      "execution_count": 12,
      "outputs": [
        {
          "output_type": "stream",
          "name": "stdout",
          "text": [
            "한주 간 삶의 질 - \"5. 외로웠다\"\n",
            "① 전혀 그렇지 않다: 68명\n",
            "② 별로 그렇지 않다: 80명\n",
            "③ 조금 그렇지 않다: 64명\n",
            "④ 보통: 69명\n",
            "⑤ 약간 그렇다: 64명\n",
            "⑥ 그렇다: 27명\n",
            "⑦ 매우 그렇다: 13명\n"
          ]
        }
      ]
    },
    {
      "cell_type": "markdown",
      "source": [
        "6. 걱정을 많이 했다"
      ],
      "metadata": {
        "id": "DUVYxpDreHDt"
      }
    },
    {
      "cell_type": "code",
      "source": [
        "question_code7 = \"Q1a6\"\n",
        "\n",
        "code_row7 = only1_youth24.iloc[0]\n",
        "target_col7 = code_row7[code_row7 == question_code7].index[0]\n",
        "\n",
        "\n",
        "response_series = only1_youth24[target_col7].iloc[1:]\n",
        "count_result = response_series.value_counts().sort_index()\n",
        "\n",
        "\n",
        "label_map7 = {\n",
        "    1: \"① 전혀 그렇지 않다\",\n",
        "    2: \"② 별로 그렇지 않다\",\n",
        "    3: \"③ 조금 그렇지 않다\",\n",
        "    4: \"④ 보통\",\n",
        "    5: \"⑤ 약간 그렇다\",\n",
        "    6: \"⑥ 그렇다\",\n",
        "    7: \"⑦ 매우 그렇다\"\n",
        "}\n",
        "\n",
        "\n",
        "print(f'한주 간 삶의 질 - \"6. 걱정을 많이 했다\"')\n",
        "\n",
        "for code, label in label_map7.items():\n",
        "    count = count_result.get(code, 0)\n",
        "    print(f\"{label}: {count}명\")"
      ],
      "metadata": {
        "colab": {
          "base_uri": "https://localhost:8080/"
        },
        "id": "Iwie09mbdzjb",
        "outputId": "5762d0a7-c993-4f27-a29f-aed9f4b6ff02"
      },
      "execution_count": 13,
      "outputs": [
        {
          "output_type": "stream",
          "name": "stdout",
          "text": [
            "한주 간 삶의 질 - \"6. 걱정을 많이 했다\"\n",
            "① 전혀 그렇지 않다: 57명\n",
            "② 별로 그렇지 않다: 77명\n",
            "③ 조금 그렇지 않다: 78명\n",
            "④ 보통: 65명\n",
            "⑤ 약간 그렇다: 61명\n",
            "⑥ 그렇다: 35명\n",
            "⑦ 매우 그렇다: 12명\n"
          ]
        }
      ]
    },
    {
      "cell_type": "markdown",
      "source": [
        "7. 우울했다"
      ],
      "metadata": {
        "id": "SQW6wAAFeQX7"
      }
    },
    {
      "cell_type": "code",
      "source": [
        "question_code8 = \"Q1a7\"\n",
        "\n",
        "code_row8 = only1_youth24.iloc[0]\n",
        "target_col8 = code_row8[code_row8 == question_code8].index[0]\n",
        "\n",
        "\n",
        "response_series = only1_youth24[target_col8].iloc[1:]\n",
        "count_result = response_series.value_counts().sort_index()\n",
        "\n",
        "\n",
        "label_map8 = {\n",
        "    1: \"① 전혀 그렇지 않다\",\n",
        "    2: \"② 별로 그렇지 않다\",\n",
        "    3: \"③ 조금 그렇지 않다\",\n",
        "    4: \"④ 보통\",\n",
        "    5: \"⑤ 약간 그렇다\",\n",
        "    6: \"⑥ 그렇다\",\n",
        "    7: \"⑦ 매우 그렇다\"\n",
        "}\n",
        "\n",
        "\n",
        "print(f'한주 간 삶의 질 - \"7. 우울했다\"')\n",
        "\n",
        "for code, label in label_map8.items():\n",
        "    count = count_result.get(code, 0)\n",
        "    print(f\"{label}: {count}명\")"
      ],
      "metadata": {
        "colab": {
          "base_uri": "https://localhost:8080/"
        },
        "id": "g2gu6LXBeH5A",
        "outputId": "ad1b935f-c196-4825-cc92-512e53f42b0f"
      },
      "execution_count": 14,
      "outputs": [
        {
          "output_type": "stream",
          "name": "stdout",
          "text": [
            "한주 간 삶의 질 - \"7. 우울했다\"\n",
            "① 전혀 그렇지 않다: 86명\n",
            "② 별로 그렇지 않다: 96명\n",
            "③ 조금 그렇지 않다: 68명\n",
            "④ 보통: 59명\n",
            "⑤ 약간 그렇다: 35명\n",
            "⑥ 그렇다: 35명\n",
            "⑦ 매우 그렇다: 6명\n"
          ]
        }
      ]
    },
    {
      "cell_type": "markdown",
      "source": [
        "1인 가구 대상, 수원 시민들의 복지 체감도"
      ],
      "metadata": {
        "id": "nbzpXB4GejIZ"
      }
    },
    {
      "cell_type": "markdown",
      "source": [
        "수원시 환경만족도 - 복지환경"
      ],
      "metadata": {
        "id": "Kl_IivhbgDAn"
      }
    },
    {
      "cell_type": "code",
      "source": [
        "question_code9 = \"Q4a5\"\n",
        "\n",
        "code_row9 = only1_youth24.iloc[0]\n",
        "target_col9 = code_row9[code_row9 == question_code9].index[0]\n",
        "\n",
        "\n",
        "response_series = only1_youth24[target_col9].iloc[1:]\n",
        "count_result = response_series.value_counts().sort_index()\n",
        "\n",
        "\n",
        "label_map9 = {\n",
        "    1: \"① 전혀 만족하지 않는다\",\n",
        "    2: \"② 별로 만족하지 않는다\",\n",
        "    3: \"③ 조금 만족하지 않는다\",\n",
        "    4: \"④ 보통\",\n",
        "    5: \"⑤ 약간 만족한다\",\n",
        "    6: \"⑥ 만족한다\",\n",
        "    7: \"⑦ 매우 만족한다\"\n",
        "}\n",
        "\n",
        "\n",
        "print(f'수원시 환경만족도 - 복지환경')\n",
        "\n",
        "for code, label in label_map9.items():\n",
        "    count = count_result.get(code, 0)\n",
        "    print(f\"{label}: {count}명\")"
      ],
      "metadata": {
        "colab": {
          "base_uri": "https://localhost:8080/"
        },
        "id": "YLW6688keRag",
        "outputId": "1318b013-f876-4ede-93f8-2e4662ea1e8b"
      },
      "execution_count": 15,
      "outputs": [
        {
          "output_type": "stream",
          "name": "stdout",
          "text": [
            "수원시 환경만족도 - 복지환경\n",
            "① 전혀 만족하지 않는다: 3명\n",
            "② 별로 만족하지 않는다: 9명\n",
            "③ 조금 만족하지 않는다: 28명\n",
            "④ 보통: 117명\n",
            "⑤ 약간 만족한다: 133명\n",
            "⑥ 만족한다: 72명\n",
            "⑦ 매우 만족한다: 23명\n"
          ]
        }
      ]
    },
    {
      "cell_type": "markdown",
      "source": [
        "수원시 환경만족도 - 생활환경(행정복지센터, 은행, 상점 등)"
      ],
      "metadata": {
        "id": "_Kvu9OBYgEYo"
      }
    },
    {
      "cell_type": "code",
      "source": [
        "question_code10 = \"Q4a4\"\n",
        "\n",
        "code_row10 = only1_youth24.iloc[0]\n",
        "target_col10 = code_row10[code_row10 == question_code10].index[0]\n",
        "\n",
        "\n",
        "response_series = only1_youth24[target_col10].iloc[1:]\n",
        "count_result = response_series.value_counts().sort_index()\n",
        "\n",
        "\n",
        "label_map10 = {\n",
        "    1: \"① 전혀 만족하지 않는다\",\n",
        "    2: \"② 별로 만족하지 않는다\",\n",
        "    3: \"③ 조금 만족하지 않는다\",\n",
        "    4: \"④ 보통\",\n",
        "    5: \"⑤ 약간 만족한다\",\n",
        "    6: \"⑥ 만족한다\",\n",
        "    7: \"⑦ 매우 만족한다\"\n",
        "}\n",
        "\n",
        "\n",
        "print(f'수원시 환경만족도 - 생활환경(행정복지센터, 은행, 상점 등)')\n",
        "\n",
        "for code, label in label_map10.items():\n",
        "    count = count_result.get(code, 0)\n",
        "    print(f\"{label}: {count}명\")"
      ],
      "metadata": {
        "colab": {
          "base_uri": "https://localhost:8080/"
        },
        "id": "Y1JR82irf3pL",
        "outputId": "70fb8c62-5f41-4dd5-ba52-2cbcd7e438bf"
      },
      "execution_count": 16,
      "outputs": [
        {
          "output_type": "stream",
          "name": "stdout",
          "text": [
            "수원시 환경만족도 - 생활환경(행정복지센터, 은행, 상점 등)\n",
            "① 전혀 만족하지 않는다: 1명\n",
            "② 별로 만족하지 않는다: 9명\n",
            "③ 조금 만족하지 않는다: 20명\n",
            "④ 보통: 78명\n",
            "⑤ 약간 만족한다: 148명\n",
            "⑥ 만족한다: 112명\n",
            "⑦ 매우 만족한다: 17명\n"
          ]
        }
      ]
    },
    {
      "cell_type": "markdown",
      "source": [
        "수원시 환경만족도 - 안전환경"
      ],
      "metadata": {
        "id": "lxQtSIsEhAt_"
      }
    },
    {
      "cell_type": "code",
      "source": [
        "question_code11 = \"Q4a8\"\n",
        "\n",
        "code_row11 = only1_youth24.iloc[0]\n",
        "target_col11 = code_row11[code_row11 == question_code11].index[0]\n",
        "\n",
        "\n",
        "response_series = only1_youth24[target_col11].iloc[1:]\n",
        "count_result = response_series.value_counts().sort_index()\n",
        "\n",
        "\n",
        "label_map11 = {\n",
        "    1: \"① 전혀 만족하지 않는다\",\n",
        "    2: \"② 별로 만족하지 않는다\",\n",
        "    3: \"③ 조금 만족하지 않는다\",\n",
        "    4: \"④ 보통\",\n",
        "    5: \"⑤ 약간 만족한다\",\n",
        "    6: \"⑥ 만족한다\",\n",
        "    7: \"⑦ 매우 만족한다\"\n",
        "}\n",
        "\n",
        "\n",
        "print(f'수원시 환경만족도 - 안전환경')\n",
        "\n",
        "for code, label in label_map11.items():\n",
        "    count = count_result.get(code, 0)\n",
        "    print(f\"{label}: {count}명\")"
      ],
      "metadata": {
        "colab": {
          "base_uri": "https://localhost:8080/"
        },
        "id": "XwfyBrR0fqCu",
        "outputId": "9b756f89-b8e6-4d19-f6ab-104bb1f7fda2"
      },
      "execution_count": 17,
      "outputs": [
        {
          "output_type": "stream",
          "name": "stdout",
          "text": [
            "수원시 환경만족도 - 안전환경\n",
            "① 전혀 만족하지 않는다: 5명\n",
            "② 별로 만족하지 않는다: 16명\n",
            "③ 조금 만족하지 않는다: 38명\n",
            "④ 보통: 103명\n",
            "⑤ 약간 만족한다: 113명\n",
            "⑥ 만족한다: 91명\n",
            "⑦ 매우 만족한다: 19명\n"
          ]
        }
      ]
    },
    {
      "cell_type": "markdown",
      "source": [
        "수원시 환경만족도 - 사회환경"
      ],
      "metadata": {
        "id": "RFu3EFSQhXUQ"
      }
    },
    {
      "cell_type": "code",
      "source": [
        "question_code12 = \"Q4a9\"\n",
        "\n",
        "code_row12 = only1_youth24.iloc[0]\n",
        "target_col12 = code_row12[code_row12 == question_code12].index[0]\n",
        "\n",
        "\n",
        "response_series = only1_youth24[target_col12].iloc[1:]\n",
        "count_result = response_series.value_counts().sort_index()\n",
        "\n",
        "\n",
        "label_map12 = {\n",
        "    1: \"① 전혀 만족하지 않는다\",\n",
        "    2: \"② 별로 만족하지 않는다\",\n",
        "    3: \"③ 조금 만족하지 않는다\",\n",
        "    4: \"④ 보통\",\n",
        "    5: \"⑤ 약간 만족한다\",\n",
        "    6: \"⑥ 만족한다\",\n",
        "    7: \"⑦ 매우 만족한다\"\n",
        "}\n",
        "\n",
        "\n",
        "print(f'수원시 환경만족도 - 사회환경')\n",
        "\n",
        "for code, label in label_map12.items():\n",
        "    count = count_result.get(code, 0)\n",
        "    print(f\"{label}: {count}명\")"
      ],
      "metadata": {
        "colab": {
          "base_uri": "https://localhost:8080/"
        },
        "id": "AQZE11dUhNjK",
        "outputId": "17a13337-4df2-498d-99bf-d48b2c482c51"
      },
      "execution_count": 18,
      "outputs": [
        {
          "output_type": "stream",
          "name": "stdout",
          "text": [
            "수원시 환경만족도 - 사회환경\n",
            "① 전혀 만족하지 않는다: 5명\n",
            "② 별로 만족하지 않는다: 22명\n",
            "③ 조금 만족하지 않는다: 31명\n",
            "④ 보통: 118명\n",
            "⑤ 약간 만족한다: 125명\n",
            "⑥ 만족한다: 69명\n",
            "⑦ 매우 만족한다: 15명\n"
          ]
        }
      ]
    },
    {
      "cell_type": "markdown",
      "source": [
        "1인 가구 대상, 수원시 내 여가생활 평가 - 나의 전반적인 여가생활에 만족한다"
      ],
      "metadata": {
        "id": "DG9qRAShhsZS"
      }
    },
    {
      "cell_type": "code",
      "source": [
        "question_code13 = \"Q27a1\"\n",
        "\n",
        "code_row13 = only1_youth24.iloc[0]\n",
        "target_col13 = code_row13[code_row13 == question_code13].index[0]\n",
        "\n",
        "\n",
        "response_series = only1_youth24[target_col13].iloc[1:]\n",
        "count_result = response_series.value_counts().sort_index()\n",
        "\n",
        "\n",
        "label_map13 = {\n",
        "    1: \"① 전혀 그렇지 않다\",\n",
        "    2: \"② 별로 그렇지 않다\",\n",
        "    3: \"③ 조금 그렇지 않다\",\n",
        "    4: \"④ 보통\",\n",
        "    5: \"⑤ 약간 그렇다\",\n",
        "    6: \"⑥ 그렇다\",\n",
        "    7: \"⑦ 매우 그렇다\"\n",
        "}\n",
        "\n",
        "\n",
        "print(f'나의 전반적인 여가생활에 만족한다')\n",
        "\n",
        "for code, label in label_map13.items():\n",
        "    count = count_result.get(code, 0)\n",
        "    print(f\"{label}: {count}명\")"
      ],
      "metadata": {
        "colab": {
          "base_uri": "https://localhost:8080/"
        },
        "id": "5PGPVdK9hXsD",
        "outputId": "1a0ea216-1418-4654-a55f-042f514ec32f"
      },
      "execution_count": 19,
      "outputs": [
        {
          "output_type": "stream",
          "name": "stdout",
          "text": [
            "나의 전반적인 여가생활에 만족한다\n",
            "① 전혀 그렇지 않다: 8명\n",
            "② 별로 그렇지 않다: 17명\n",
            "③ 조금 그렇지 않다: 34명\n",
            "④ 보통: 118명\n",
            "⑤ 약간 그렇다: 129명\n",
            "⑥ 그렇다: 66명\n",
            "⑦ 매우 그렇다: 13명\n"
          ]
        }
      ]
    },
    {
      "cell_type": "markdown",
      "source": [
        "1인 가구 수원 시민들의 수원시 정책 관심도"
      ],
      "metadata": {
        "id": "digT5tjii0Oz"
      }
    },
    {
      "cell_type": "code",
      "source": [
        "question_code14 = \"Q58\"\n",
        "\n",
        "code_row14 = only1_youth24.iloc[0]\n",
        "target_col14 = code_row14[code_row14 == question_code14].index[0]\n",
        "\n",
        "\n",
        "response_series = only1_youth24[target_col14].iloc[1:]\n",
        "count_result = response_series.value_counts().sort_index()\n",
        "\n",
        "\n",
        "label_map14 = {\n",
        "    1: \"① 전혀 없다\",\n",
        "    2: \"② 없는 편이다\",\n",
        "    3: \"③ 보통이다\",\n",
        "    4: \"④ 많은 편이다\",\n",
        "    5: \"⑤ 매우 많다\"\n",
        "}\n",
        "\n",
        "\n",
        "print(f'수원시 정책 관심도')\n",
        "\n",
        "for code, label in label_map14.items():\n",
        "    count = count_result.get(code, 0)\n",
        "    print(f\"{label}: {count}명\")"
      ],
      "metadata": {
        "colab": {
          "base_uri": "https://localhost:8080/"
        },
        "id": "T9PFGcfhiFDm",
        "outputId": "231776fc-746b-47d3-a668-c3ac1bc056a1"
      },
      "execution_count": 20,
      "outputs": [
        {
          "output_type": "stream",
          "name": "stdout",
          "text": [
            "수원시 정책 관심도\n",
            "① 전혀 없다: 27명\n",
            "② 없는 편이다: 111명\n",
            "③ 보통이다: 175명\n",
            "④ 많은 편이다: 65명\n",
            "⑤ 매우 많다: 7명\n"
          ]
        }
      ]
    },
    {
      "cell_type": "code",
      "source": [],
      "metadata": {
        "id": "2NKk9uR-jMxa"
      },
      "execution_count": null,
      "outputs": []
    }
  ]
}