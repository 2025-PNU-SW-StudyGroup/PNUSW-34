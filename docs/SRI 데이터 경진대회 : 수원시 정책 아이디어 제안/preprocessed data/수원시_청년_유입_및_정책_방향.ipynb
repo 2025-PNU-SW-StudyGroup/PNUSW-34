{
  "nbformat": 4,
  "nbformat_minor": 0,
  "metadata": {
    "colab": {
      "provenance": []
    },
    "kernelspec": {
      "name": "python3",
      "display_name": "Python 3"
    },
    "language_info": {
      "name": "python"
    }
  },
  "cells": [
    {
      "cell_type": "markdown",
      "source": [
        "수원시 유입의 이유를 알기 위함이므로 거주 10년 이상인 경우는 제외하고 확인"
      ],
      "metadata": {
        "id": "4eagY1-3WFYP"
      }
    },
    {
      "cell_type": "code",
      "execution_count": null,
      "metadata": {
        "colab": {
          "base_uri": "https://localhost:8080/",
          "height": 115
        },
        "id": "WORVbBPXP18Z",
        "outputId": "a5c0ca94-48e6-4f2e-e874-c346c98b4233"
      },
      "outputs": [
        {
          "output_type": "display_data",
          "data": {
            "text/plain": [
              "<IPython.core.display.HTML object>"
            ],
            "text/html": [
              "\n",
              "     <input type=\"file\" id=\"files-b2583e70-bf3d-454a-9b38-5e1c4402ee88\" name=\"files[]\" multiple disabled\n",
              "        style=\"border:none\" />\n",
              "     <output id=\"result-b2583e70-bf3d-454a-9b38-5e1c4402ee88\">\n",
              "      Upload widget is only available when the cell has been executed in the\n",
              "      current browser session. Please rerun this cell to enable.\n",
              "      </output>\n",
              "      <script>// Copyright 2017 Google LLC\n",
              "//\n",
              "// Licensed under the Apache License, Version 2.0 (the \"License\");\n",
              "// you may not use this file except in compliance with the License.\n",
              "// You may obtain a copy of the License at\n",
              "//\n",
              "//      http://www.apache.org/licenses/LICENSE-2.0\n",
              "//\n",
              "// Unless required by applicable law or agreed to in writing, software\n",
              "// distributed under the License is distributed on an \"AS IS\" BASIS,\n",
              "// WITHOUT WARRANTIES OR CONDITIONS OF ANY KIND, either express or implied.\n",
              "// See the License for the specific language governing permissions and\n",
              "// limitations under the License.\n",
              "\n",
              "/**\n",
              " * @fileoverview Helpers for google.colab Python module.\n",
              " */\n",
              "(function(scope) {\n",
              "function span(text, styleAttributes = {}) {\n",
              "  const element = document.createElement('span');\n",
              "  element.textContent = text;\n",
              "  for (const key of Object.keys(styleAttributes)) {\n",
              "    element.style[key] = styleAttributes[key];\n",
              "  }\n",
              "  return element;\n",
              "}\n",
              "\n",
              "// Max number of bytes which will be uploaded at a time.\n",
              "const MAX_PAYLOAD_SIZE = 100 * 1024;\n",
              "\n",
              "function _uploadFiles(inputId, outputId) {\n",
              "  const steps = uploadFilesStep(inputId, outputId);\n",
              "  const outputElement = document.getElementById(outputId);\n",
              "  // Cache steps on the outputElement to make it available for the next call\n",
              "  // to uploadFilesContinue from Python.\n",
              "  outputElement.steps = steps;\n",
              "\n",
              "  return _uploadFilesContinue(outputId);\n",
              "}\n",
              "\n",
              "// This is roughly an async generator (not supported in the browser yet),\n",
              "// where there are multiple asynchronous steps and the Python side is going\n",
              "// to poll for completion of each step.\n",
              "// This uses a Promise to block the python side on completion of each step,\n",
              "// then passes the result of the previous step as the input to the next step.\n",
              "function _uploadFilesContinue(outputId) {\n",
              "  const outputElement = document.getElementById(outputId);\n",
              "  const steps = outputElement.steps;\n",
              "\n",
              "  const next = steps.next(outputElement.lastPromiseValue);\n",
              "  return Promise.resolve(next.value.promise).then((value) => {\n",
              "    // Cache the last promise value to make it available to the next\n",
              "    // step of the generator.\n",
              "    outputElement.lastPromiseValue = value;\n",
              "    return next.value.response;\n",
              "  });\n",
              "}\n",
              "\n",
              "/**\n",
              " * Generator function which is called between each async step of the upload\n",
              " * process.\n",
              " * @param {string} inputId Element ID of the input file picker element.\n",
              " * @param {string} outputId Element ID of the output display.\n",
              " * @return {!Iterable<!Object>} Iterable of next steps.\n",
              " */\n",
              "function* uploadFilesStep(inputId, outputId) {\n",
              "  const inputElement = document.getElementById(inputId);\n",
              "  inputElement.disabled = false;\n",
              "\n",
              "  const outputElement = document.getElementById(outputId);\n",
              "  outputElement.innerHTML = '';\n",
              "\n",
              "  const pickedPromise = new Promise((resolve) => {\n",
              "    inputElement.addEventListener('change', (e) => {\n",
              "      resolve(e.target.files);\n",
              "    });\n",
              "  });\n",
              "\n",
              "  const cancel = document.createElement('button');\n",
              "  inputElement.parentElement.appendChild(cancel);\n",
              "  cancel.textContent = 'Cancel upload';\n",
              "  const cancelPromise = new Promise((resolve) => {\n",
              "    cancel.onclick = () => {\n",
              "      resolve(null);\n",
              "    };\n",
              "  });\n",
              "\n",
              "  // Wait for the user to pick the files.\n",
              "  const files = yield {\n",
              "    promise: Promise.race([pickedPromise, cancelPromise]),\n",
              "    response: {\n",
              "      action: 'starting',\n",
              "    }\n",
              "  };\n",
              "\n",
              "  cancel.remove();\n",
              "\n",
              "  // Disable the input element since further picks are not allowed.\n",
              "  inputElement.disabled = true;\n",
              "\n",
              "  if (!files) {\n",
              "    return {\n",
              "      response: {\n",
              "        action: 'complete',\n",
              "      }\n",
              "    };\n",
              "  }\n",
              "\n",
              "  for (const file of files) {\n",
              "    const li = document.createElement('li');\n",
              "    li.append(span(file.name, {fontWeight: 'bold'}));\n",
              "    li.append(span(\n",
              "        `(${file.type || 'n/a'}) - ${file.size} bytes, ` +\n",
              "        `last modified: ${\n",
              "            file.lastModifiedDate ? file.lastModifiedDate.toLocaleDateString() :\n",
              "                                    'n/a'} - `));\n",
              "    const percent = span('0% done');\n",
              "    li.appendChild(percent);\n",
              "\n",
              "    outputElement.appendChild(li);\n",
              "\n",
              "    const fileDataPromise = new Promise((resolve) => {\n",
              "      const reader = new FileReader();\n",
              "      reader.onload = (e) => {\n",
              "        resolve(e.target.result);\n",
              "      };\n",
              "      reader.readAsArrayBuffer(file);\n",
              "    });\n",
              "    // Wait for the data to be ready.\n",
              "    let fileData = yield {\n",
              "      promise: fileDataPromise,\n",
              "      response: {\n",
              "        action: 'continue',\n",
              "      }\n",
              "    };\n",
              "\n",
              "    // Use a chunked sending to avoid message size limits. See b/62115660.\n",
              "    let position = 0;\n",
              "    do {\n",
              "      const length = Math.min(fileData.byteLength - position, MAX_PAYLOAD_SIZE);\n",
              "      const chunk = new Uint8Array(fileData, position, length);\n",
              "      position += length;\n",
              "\n",
              "      const base64 = btoa(String.fromCharCode.apply(null, chunk));\n",
              "      yield {\n",
              "        response: {\n",
              "          action: 'append',\n",
              "          file: file.name,\n",
              "          data: base64,\n",
              "        },\n",
              "      };\n",
              "\n",
              "      let percentDone = fileData.byteLength === 0 ?\n",
              "          100 :\n",
              "          Math.round((position / fileData.byteLength) * 100);\n",
              "      percent.textContent = `${percentDone}% done`;\n",
              "\n",
              "    } while (position < fileData.byteLength);\n",
              "  }\n",
              "\n",
              "  // All done.\n",
              "  yield {\n",
              "    response: {\n",
              "      action: 'complete',\n",
              "    }\n",
              "  };\n",
              "}\n",
              "\n",
              "scope.google = scope.google || {};\n",
              "scope.google.colab = scope.google.colab || {};\n",
              "scope.google.colab._files = {\n",
              "  _uploadFiles,\n",
              "  _uploadFilesContinue,\n",
              "};\n",
              "})(self);\n",
              "</script> "
            ]
          },
          "metadata": {}
        },
        {
          "output_type": "stream",
          "name": "stdout",
          "text": [
            "Saving (공개용)2025년 2분기 패널조사_데이터(가중치).xlsx to (공개용)2025년 2분기 패널조사_데이터(가중치).xlsx\n"
          ]
        }
      ],
      "source": [
        "from google.colab import files\n",
        "uploaded = files.upload()\n"
      ]
    },
    {
      "cell_type": "code",
      "source": [
        "import pandas as pd\n",
        "\n",
        "df = pd.read_excel('(공개용)2025년 2분기 패널조사_데이터(가중치).xlsx')  # 실제 파일명으로 바꿔줘\n",
        "filtered_df = df[df['q9'] != 5]\n",
        "\n",
        "# filtered_df = df[~((df['DM2_1'] == 1) & (df['q9'] == 5))]\n",
        "df.head()\n",
        "print(f\"전체 응답자 수: {len(df)}\")\n",
        "print(f\"필터링된 응답자 수: {len(filtered_df)}\")"
      ],
      "metadata": {
        "colab": {
          "base_uri": "https://localhost:8080/"
        },
        "id": "nGvjQ2qKQfru",
        "outputId": "7cf0c928-f756-4f7a-a279-6af2d48e1123"
      },
      "execution_count": null,
      "outputs": [
        {
          "output_type": "stream",
          "name": "stdout",
          "text": [
            "전체 응답자 수: 1587\n",
            "필터링된 응답자 수: 580\n"
          ]
        }
      ]
    },
    {
      "cell_type": "markdown",
      "source": [
        "q2 관심도만 확인"
      ],
      "metadata": {
        "id": "KeU-_BaRVbRw"
      }
    },
    {
      "cell_type": "code",
      "source": [
        "import pandas as pd\n",
        "import matplotlib.pyplot as plt\n",
        "\n",
        "# 예시 데이터프레임: df\n",
        "# q2: 1~7점 척도 (1=전혀 관심 없음, 7=매우 관심 많음)\n",
        "\n",
        "# 1. q2 관심도 분포표 (빈도 + 비율)\n",
        "q2_counts = df['q2'].value_counts().sort_index()\n",
        "q2_percent = round((q2_counts / len(df)) * 100, 2)\n",
        "\n",
        "q2_dist = pd.DataFrame({\n",
        "    '관심도 점수': q2_counts.index,\n",
        "    '응답자 수': q2_counts.values,\n",
        "    '백분율(%)': q2_percent.values\n",
        "})\n",
        "\n",
        "print(q2_dist)\n",
        "\n"
      ],
      "metadata": {
        "colab": {
          "base_uri": "https://localhost:8080/"
        },
        "id": "YVEZqgfTQpDH",
        "outputId": "2bfa4a6c-1583-4e13-c3e6-c794e3ac6644"
      },
      "execution_count": null,
      "outputs": [
        {
          "output_type": "stream",
          "name": "stdout",
          "text": [
            "   관심도 점수  응답자 수  백분율(%)\n",
            "0       1      5    0.32\n",
            "1       2     21    1.32\n",
            "2       3     78    4.91\n",
            "3       4    308   19.41\n",
            "4       5    517   32.58\n",
            "5       6    411   25.90\n",
            "6       7    247   15.56\n"
          ]
        }
      ]
    },
    {
      "cell_type": "markdown",
      "source": [
        "q3 만족도만 확인"
      ],
      "metadata": {
        "id": "jTlrCXK8Vfv3"
      }
    },
    {
      "cell_type": "code",
      "source": [
        "import pandas as pd\n",
        "import matplotlib.pyplot as plt\n",
        "\n",
        "# 1. q3 만족도 분포표 계산\n",
        "q3_counts = df['q3'].value_counts().sort_index()\n",
        "q3_percent = round((q3_counts / len(df)) * 100, 1)\n",
        "\n",
        "q3_dist = pd.DataFrame({\n",
        "    '만족도 점수': q3_counts.index,\n",
        "    '응답자 수': q3_counts.values,\n",
        "    '백분율(%)': q3_percent.values\n",
        "})\n",
        "\n",
        "# 2. 표 출력\n",
        "print(q3_dist.to_string(index=False))"
      ],
      "metadata": {
        "colab": {
          "base_uri": "https://localhost:8080/"
        },
        "id": "grFXWFjlVXdd",
        "outputId": "9e3470bf-458b-4d4f-a069-b25f6dc4cc06"
      },
      "execution_count": null,
      "outputs": [
        {
          "output_type": "stream",
          "name": "stdout",
          "text": [
            " 만족도 점수  응답자 수  백분율(%)\n",
            "      1      3     0.2\n",
            "      2     25     1.6\n",
            "      3     72     4.5\n",
            "      4    296    18.7\n",
            "      5    538    33.9\n",
            "      6    451    28.4\n",
            "      7    202    12.7\n"
          ]
        }
      ]
    },
    {
      "cell_type": "markdown",
      "source": [
        "연령별 관심도, 만족도 분포"
      ],
      "metadata": {
        "id": "XygnnyO0XDuT"
      }
    },
    {
      "cell_type": "code",
      "source": [
        "import pandas as pd\n",
        "\n",
        "# 연령별 q2 분포 계산 (비율)\n",
        "q2_by_age = (\n",
        "    filtered_df\n",
        "    .groupby('DM2_1')['q2']\n",
        "    .value_counts(normalize=True)  # 각 연령 그룹 내에서 퍼센트\n",
        "    .mul(100)\n",
        "    .round(1)\n",
        "    .unstack(fill_value=0)  # 행: 연령, 열: 관심도 점수(1~7)\n",
        ")\n",
        "q3_by_age = (\n",
        "    filtered_df\n",
        "    .groupby('DM2_1')['q3']\n",
        "    .value_counts(normalize=True)  # 각 연령 그룹 내에서 퍼센트\n",
        "    .mul(100)\n",
        "    .round(1)\n",
        "    .unstack(fill_value=0)  # 행: 연령, 열: 관심도 점수(1~7)\n",
        ")\n",
        "# 결과 출력\n",
        "print(\"※ 연령별 정책 관심도(q2) 분포 [%]\")\n",
        "print(q2_by_age)\n",
        "print(\"※ 연령별 정책 만족도(q3) 분포 [%]\")\n",
        "print(q3_by_age)"
      ],
      "metadata": {
        "colab": {
          "base_uri": "https://localhost:8080/"
        },
        "id": "DHvhbKqRWzw2",
        "outputId": "bc050e98-d1ee-41ba-a9f3-78ca60ca9066"
      },
      "execution_count": null,
      "outputs": [
        {
          "output_type": "stream",
          "name": "stdout",
          "text": [
            "※ 연령별 정책 관심도(q2) 분포 [%]\n",
            "q2       2     3     4     5     6    7\n",
            "DM2_1                                  \n",
            "1      3.6  14.3  26.2  33.3  19.0  3.6\n",
            "2      0.7   4.5  29.4  33.8  26.4  5.2\n",
            "3      0.0   3.2   8.6  48.9  31.7  7.5\n",
            "4      0.0   0.0  19.0  47.6  28.6  4.8\n",
            "5      5.0   5.0  25.0  30.0  30.0  5.0\n",
            "※ 연령별 정책 만족도(q3) 분포 [%]\n",
            "q3       2     3     4     5     6     7\n",
            "DM2_1                                   \n",
            "1      0.0  10.7  19.0  40.5  26.2   3.6\n",
            "2      0.7   2.6  16.4  42.8  33.8   3.7\n",
            "3      1.1   2.7  11.3  49.5  29.0   6.5\n",
            "4      0.0   0.0  23.8  28.6  38.1   9.5\n",
            "5      0.0  10.0  30.0  25.0  25.0  10.0\n"
          ]
        }
      ]
    },
    {
      "cell_type": "markdown",
      "source": [
        "연령별 만족, 불만족 이유 분포 확인"
      ],
      "metadata": {
        "id": "AwFGLV_0XxTL"
      }
    },
    {
      "cell_type": "code",
      "source": [
        "# 1. 만족자만 필터링 (q3 >= 5)\n",
        "satisfied = filtered_df[filtered_df['q3'] >= 5].copy()\n",
        "\n",
        "# 2. 이유 1순위와 2순위 결합 → 하나의 시리즈로 묶기\n",
        "satisfied_melted = pd.concat([\n",
        "    satisfied[['DM2_1', 'q3_1_1']].rename(columns={'q3_1_1': '이유'}),\n",
        "    satisfied[['DM2_1', 'q3_1_2']].rename(columns={'q3_1_2': '이유'})\n",
        "])\n",
        "\n",
        "# 3. 연령별 만족 이유 분포 (%) 계산\n",
        "satisfied_reason_dist = (\n",
        "    satisfied_melted\n",
        "    .groupby('DM2_1')['이유']\n",
        "    .value_counts(normalize=True)\n",
        "    .mul(100)\n",
        "    .round(1)\n",
        "    .unstack(fill_value=0)\n",
        ")\n",
        "\n",
        "print(\"✅ 연령별 정책 만족 이유 분포 [%]\")\n",
        "print(satisfied_reason_dist)\n"
      ],
      "metadata": {
        "colab": {
          "base_uri": "https://localhost:8080/"
        },
        "id": "QoVV0SxRX0dw",
        "outputId": "7e3155cd-69fa-41d7-bdbc-8fb9ad0ee7d2"
      },
      "execution_count": null,
      "outputs": [
        {
          "output_type": "stream",
          "name": "stdout",
          "text": [
            "✅ 연령별 정책 만족 이유 분포 [%]\n",
            "이유      1.0   2.0   3.0   4.0   5.0   6.0  7.0  8.0\n",
            "DM2_1                                              \n",
            "1       7.8  23.3  17.2  17.2  14.7  12.9  5.2  1.7\n",
            "2      13.2  30.2  21.2  13.7   8.0  11.3  2.4  0.0\n",
            "3       4.1  24.1  20.3  14.5  29.3   4.1  3.4  0.0\n",
            "4      28.1  21.9  21.9   9.4   9.4   6.2  3.1  0.0\n",
            "5      20.8  29.2  20.8  12.5   4.2   8.3  4.2  0.0\n"
          ]
        }
      ]
    },
    {
      "cell_type": "code",
      "source": [
        "# 1. 불만족자만 필터링 (q3 <= 3)\n",
        "unsatisfied = filtered_df[filtered_df['q3'] <= 3].copy()\n",
        "\n",
        "# 2. 이유 1순위와 2순위 결합\n",
        "unsatisfied_melted = pd.concat([\n",
        "    unsatisfied[['DM2_1', 'q3_2_1']].rename(columns={'q3_2_1': '이유'}),\n",
        "    unsatisfied[['DM2_1', 'q3_2_2']].rename(columns={'q3_2_2': '이유'})\n",
        "])\n",
        "\n",
        "# 3. 연령별 불만족 이유 분포 (%) 계산\n",
        "unsatisfied_reason_dist = (\n",
        "    unsatisfied_melted\n",
        "    .groupby('DM2_1')['이유']\n",
        "    .value_counts(normalize=True)\n",
        "    .mul(100)\n",
        "    .round(1)\n",
        "    .unstack(fill_value=0)\n",
        ")\n",
        "\n",
        "print(\"✅ 연령별 정책 불만족 이유 분포 [%]\")\n",
        "print(unsatisfied_reason_dist)\n"
      ],
      "metadata": {
        "colab": {
          "base_uri": "https://localhost:8080/"
        },
        "id": "smeATSDtZBN6",
        "outputId": "815b6044-0de8-49fc-e147-f6f25467d79b"
      },
      "execution_count": null,
      "outputs": [
        {
          "output_type": "stream",
          "name": "stdout",
          "text": [
            "✅ 연령별 정책 불만족 이유 분포 [%]\n",
            "이유      1.0   2.0   3.0   4.0   5.0   6.0  7.0   8.0\n",
            "DM2_1                                               \n",
            "1       0.0  11.1  33.3   5.6  38.9   5.6  5.6   0.0\n",
            "2       5.6  11.1  33.3  33.3   5.6  11.1  0.0   0.0\n",
            "3      25.0  16.7  25.0  16.7   0.0   0.0  8.3   8.3\n",
            "5      25.0  25.0   0.0  25.0   0.0   0.0  0.0  25.0\n"
          ]
        }
      ]
    },
    {
      "cell_type": "markdown",
      "source": [
        "주거구별 관심도, 만족도 분"
      ],
      "metadata": {
        "id": "lse1XefYZQch"
      }
    },
    {
      "cell_type": "code",
      "source": [
        "import pandas as pd\n",
        "\n",
        "# 주거구별 q2 분포 계산 (비율)\n",
        "q2_by_gu = (\n",
        "    filtered_df\n",
        "    .groupby('GU')['q2']\n",
        "    .value_counts(normalize=True)  # 각 GU 그룹 내에서 퍼센트\n",
        "    .mul(100)\n",
        "    .round(1)\n",
        "    .unstack(fill_value=0)  # 행: GU, 열: 관심도 점수(1~7)\n",
        ")\n",
        "gu_names = {1: '장안구', 2: '권선구', 3: '팔달구', 4: '영통구'}\n",
        "q2_by_gu.index = q2_by_gu.index.map(gu_names)\n",
        "# 결과 출력\n",
        "print(\"※ 주거구별 정책 관심도(q2) 분포 [%]\")\n",
        "print(q2_by_gu)\n",
        "# 주거구별 q3 분포 계산 (비율)\n",
        "q3_by_gu = (\n",
        "    filtered_df\n",
        "    .groupby('GU')['q3']\n",
        "    .value_counts(normalize=True)  # 각 GU 그룹 내에서 비율\n",
        "    .mul(100)\n",
        "    .round(1)\n",
        "    .unstack(fill_value=0)  # 행: GU, 열: 만족도 점수(1~7)\n",
        ")\n",
        "gu_names = {1: '장안구', 2: '권선구', 3: '팔달구', 4: '영통구'}\n",
        "q3_by_gu.index = q3_by_gu.index.map(gu_names)\n",
        "# 결과 출력\n",
        "print(\"※ 주거구별 정책 만족도(q3) 분포 [%]\")\n",
        "print(q3_by_gu)"
      ],
      "metadata": {
        "colab": {
          "base_uri": "https://localhost:8080/"
        },
        "id": "7gO_ydZcZX4q",
        "outputId": "d0449113-5cef-40ba-ba31-5e20beb275e9"
      },
      "execution_count": null,
      "outputs": [
        {
          "output_type": "stream",
          "name": "stdout",
          "text": [
            "※ 주거구별 정책 관심도(q2) 분포 [%]\n",
            "q2     2     3     4     5     6    7\n",
            "GU                                   \n",
            "장안구  0.0  11.8  17.3  39.4  27.6  3.9\n",
            "권선구  0.4   0.8  15.6  43.9  32.4  7.0\n",
            "팔달구  2.6   6.4  44.9  20.5  21.8  3.8\n",
            "영통구  2.3   6.9  23.7  40.5  20.6  6.1\n",
            "※ 주거구별 정책 만족도(q3) 분포 [%]\n",
            "q3     2    3     4     5     6    7\n",
            "GU                                  \n",
            "장안구  0.0  5.5  17.3  44.1  27.6  5.5\n",
            "권선구  0.8  3.7   7.8  49.6  31.6  6.6\n",
            "팔달구  0.0  2.6  26.9  35.9  32.1  2.6\n",
            "영통구  1.5  3.8  22.9  35.9  32.8  3.1\n"
          ]
        }
      ]
    },
    {
      "cell_type": "markdown",
      "source": [
        "주거구별 만족도, 불만족도 이유 파악"
      ],
      "metadata": {
        "id": "UjosuhKVZr0j"
      }
    },
    {
      "cell_type": "code",
      "source": [
        "# 1. 만족자만 필터링 (q3 >= 5)\n",
        "satisfied = filtered_df[filtered_df['q3'] >= 5].copy()\n",
        "\n",
        "# 2. 만족 이유 정리\n",
        "satisfied_reason_by_gu = (\n",
        "    satisfied\n",
        "    .groupby('GU')['q3_1_1']  # q3_1_1: 만족 이유\n",
        "    .value_counts(normalize=True)\n",
        "    .mul(100)\n",
        "    .round(1)\n",
        "    .unstack(fill_value=0)\n",
        ")\n",
        "\n",
        "# 3. 주거구 이름 매핑 (선택)\n",
        "gu_names = {1: '장안구', 2: '권선구', 3: '팔달구', 4: '영통구'}\n",
        "satisfied_reason_by_gu.index = satisfied_reason_by_gu.index.map(gu_names)\n",
        "\n",
        "# 4. 출력\n",
        "print(\"✅ 주거구별 정책 만족 이유 분포 [%]\")\n",
        "print(satisfied_reason_by_gu)\n"
      ],
      "metadata": {
        "colab": {
          "base_uri": "https://localhost:8080/"
        },
        "id": "K8uEFAaUZ8a5",
        "outputId": "9bf68338-b36e-49ab-b197-a3ef9c40eed5"
      },
      "execution_count": null,
      "outputs": [
        {
          "output_type": "stream",
          "name": "stdout",
          "text": [
            "✅ 주거구별 정책 만족 이유 분포 [%]\n",
            "q3_1_1   1.0   2.0   3.0   4.0   5.0  6.0  7.0\n",
            "GU                                            \n",
            "장안구     17.2  29.0  26.9  11.8  10.8  4.3  0.0\n",
            "권선구     13.2  50.7  19.5   8.8   4.4  2.9  0.5\n",
            "팔달구     21.8  38.2  16.4  12.7   3.6  7.3  0.0\n",
            "영통구     18.9  23.3  34.4  12.2   7.8  1.1  2.2\n"
          ]
        }
      ]
    },
    {
      "cell_type": "code",
      "source": [
        "# 1. 불만족자만 필터링 (q3 <= 3)\n",
        "dissatisfied = filtered_df[filtered_df['q3'] <= 3].copy()\n",
        "\n",
        "# 2. 불만족 이유 정리\n",
        "dissatisfied_reason_by_gu = (\n",
        "    dissatisfied\n",
        "    .groupby('GU')['q3_1_2']  # q3_1_2: 불만족 이유\n",
        "    .value_counts(normalize=True)\n",
        "    .mul(100)\n",
        "    .round(1)\n",
        "    .unstack(fill_value=0)\n",
        ")\n",
        "\n",
        "# 3. 주거구 이름 매핑 (선택)\n",
        "dissatisfied_reason_by_gu.index = dissatisfied_reason_by_gu.index.map(gu_names)\n",
        "\n",
        "# 4. 출력\n",
        "print(\"✅ 주거구별 정책 불만족 이유 분포 [%]\")\n",
        "print(dissatisfied_reason_by_gu)\n"
      ],
      "metadata": {
        "colab": {
          "base_uri": "https://localhost:8080/"
        },
        "id": "9I4rEFRfaAQK",
        "outputId": "06d55f32-b7df-4d60-ff3a-b29ce2b02a1e"
      },
      "execution_count": null,
      "outputs": [
        {
          "output_type": "stream",
          "name": "stdout",
          "text": [
            "✅ 주거구별 정책 불만족 이유 분포 [%]\n",
            "Empty DataFrame\n",
            "Columns: []\n",
            "Index: []\n"
          ]
        }
      ]
    },
    {
      "cell_type": "markdown",
      "source": [
        "주거구별/ 연령별 지역 생활 만족도"
      ],
      "metadata": {
        "id": "bePNK9LVaUWC"
      }
    },
    {
      "cell_type": "code",
      "source": [
        "# 1. 주거구별 q8_1 분포 계산 (비율)\n",
        "q8_by_gu = (\n",
        "    filtered_df\n",
        "    .groupby('GU')['q8_1']\n",
        "    .value_counts(normalize=True)\n",
        "    .mul(100)\n",
        "    .round(1)\n",
        "    .unstack(fill_value=0)\n",
        ")\n",
        "\n",
        "# 2. 주거구 이름 매핑 (선택 사항)\n",
        "gu_names = {1: '장안구', 2: '권선구', 3: '팔달구', 4: '영통구'}\n",
        "q8_by_gu.index = q8_by_gu.index.map(gu_names)\n",
        "\n",
        "# 3. 결과 출력\n",
        "print(\"✅ 주거구별 지역 생활 만족도(q8_1) 분포 [%]\")\n",
        "print(q8_by_gu)\n"
      ],
      "metadata": {
        "colab": {
          "base_uri": "https://localhost:8080/"
        },
        "id": "qL3TqVRbaX1e",
        "outputId": "8691882f-10c4-4341-b74e-592b69703cdf"
      },
      "execution_count": null,
      "outputs": [
        {
          "output_type": "stream",
          "name": "stdout",
          "text": [
            "✅ 주거구별 지역 생활 만족도(q8_1) 분포 [%]\n",
            "q8_1    1    2     3     4     5\n",
            "GU                              \n",
            "장안구   0.0  7.9  22.8  58.3  11.0\n",
            "권선구   0.4  2.9  30.3  55.3  11.1\n",
            "팔달구   0.0  2.6  14.1  80.8   2.6\n",
            "영통구   0.8  5.3  19.8  59.5  14.5\n"
          ]
        }
      ]
    },
    {
      "cell_type": "code",
      "source": [
        "# 연령별 q8_1_1 분포 계산 (비율)\n",
        "q8_by_age = (\n",
        "    filtered_df\n",
        "    .groupby('DM2_1')['q8_1']\n",
        "    .value_counts(normalize=True)\n",
        "    .mul(100)\n",
        "    .round(1)\n",
        "    .unstack(fill_value=0)\n",
        ")\n",
        "\n",
        "# 2. 연령 이름 매핑 (선택 사항)\n",
        "age_labels = {\n",
        "    1: '20대 이하', 2: '30대', 3: '40대', 4: '50대', 5: '60대 이상'\n",
        "}\n",
        "q8_by_age.index = q8_by_age.index.map(age_labels)\n",
        "\n",
        "# 3. 결과 출력\n",
        "print(\"✅ 연령별 지역 생활 만족도(q8_1) 분포 [%]\")\n",
        "print(q8_by_age)\n"
      ],
      "metadata": {
        "colab": {
          "base_uri": "https://localhost:8080/"
        },
        "id": "UHohkM-1aiGt",
        "outputId": "c7e361b1-bd3b-4c58-c33c-d0064113d397"
      },
      "execution_count": null,
      "outputs": [
        {
          "output_type": "stream",
          "name": "stdout",
          "text": [
            "✅ 연령별 지역 생활 만족도(q8_1) 분포 [%]\n",
            "q8_1      1     2     3     4     5\n",
            "DM2_1                              \n",
            "20대 이하  0.0   3.6  23.8  61.9  10.7\n",
            "30대     0.4   4.5  11.9  75.5   7.8\n",
            "40대     0.5   4.8  40.3  41.9  12.4\n",
            "50대     0.0   0.0  28.6  52.4  19.0\n",
            "60대 이상  0.0  10.0  35.0  30.0  25.0\n"
          ]
        }
      ]
    },
    {
      "cell_type": "markdown",
      "source": [
        "연령별 거주 기간 분포"
      ],
      "metadata": {
        "id": "jeAsFkxlau2Y"
      }
    },
    {
      "cell_type": "code",
      "source": [
        "# 연령별 거주기간(q9) 분포 계산 (비율)\n",
        "q9_by_age = (\n",
        "    filtered_df\n",
        "    .groupby('DM2_1')['q9']\n",
        "    .value_counts(normalize=True)\n",
        "    .mul(100)\n",
        "    .round(1)\n",
        "    .unstack(fill_value=0)\n",
        ")\n",
        "\n",
        "# 연령 라벨 매핑 (선택 사항)\n",
        "age_labels = {\n",
        "    1: '20대 이하', 2: '30대', 3: '40대', 4: '50대', 5: '60대 이상'\n",
        "}\n",
        "q9_by_age.index = q9_by_age.index.map(age_labels)\n",
        "\n",
        "# 거주기간 라벨 매핑 (선택 사항)\n",
        "q9_labels = {\n",
        "    1: '1년 미만',\n",
        "    2: '1~3년 미만',\n",
        "    3: '3~5년 미만',\n",
        "    4: '5~10년 미만',\n",
        "    5: '10년 이상'\n",
        "}\n",
        "q9_by_age.columns = q9_by_age.columns.map(q9_labels)\n",
        "\n",
        "# 결과 출력\n",
        "print(\"✅ 연령별 수원 거주 기간(q9) 분포 [%]\")\n",
        "print(q9_by_age)\n"
      ],
      "metadata": {
        "colab": {
          "base_uri": "https://localhost:8080/"
        },
        "id": "njKZEVbcayOA",
        "outputId": "609e9ec3-0083-4d09-86bd-56db48397c63"
      },
      "execution_count": null,
      "outputs": [
        {
          "output_type": "stream",
          "name": "stdout",
          "text": [
            "✅ 연령별 수원 거주 기간(q9) 분포 [%]\n",
            "q9      1년 미만  1~3년 미만  3~5년 미만  5~10년 미만\n",
            "DM2_1                                    \n",
            "20대 이하    1.2     20.2     35.7      42.9\n",
            "30대       0.4      5.2     18.6      75.8\n",
            "40대       0.0      9.7     22.0      68.3\n",
            "50대       9.5      4.8     19.0      66.7\n",
            "60대 이상    5.0     10.0     25.0      60.0\n"
          ]
        }
      ]
    },
    {
      "cell_type": "markdown",
      "source": [
        "연령별 중요하다고 생각하는 정"
      ],
      "metadata": {
        "id": "dblu3zYbhuQX"
      }
    },
    {
      "cell_type": "code",
      "source": [
        "# 연령별 q14 응답 분포 계산 (비율)\n",
        "q14_by_age = (\n",
        "    filtered_df\n",
        "    .groupby('DM2_1')['q14']\n",
        "    .value_counts(normalize=True)\n",
        "    .mul(100)\n",
        "    .round(1)\n",
        "    .unstack(fill_value=0)\n",
        ")\n",
        "\n",
        "# 연령 라벨 (선택사항)\n",
        "age_labels = {\n",
        "    1: '20대 이하', 2: '30대', 3: '40대', 4: '50대', 5: '60대 이상'\n",
        "}\n",
        "q14_by_age.index = q14_by_age.index.map(age_labels)\n",
        "\n",
        "# 결과 출력\n",
        "print(\"✅ 연령별 q14 응답 분포 [%]\")\n",
        "print(q14_by_age)\n"
      ],
      "metadata": {
        "colab": {
          "base_uri": "https://localhost:8080/"
        },
        "id": "foFp6nNOhthW",
        "outputId": "34358173-4c02-46fb-b9ef-bb667b8951e0"
      },
      "execution_count": null,
      "outputs": [
        {
          "output_type": "stream",
          "name": "stdout",
          "text": [
            "✅ 연령별 q14 응답 분포 [%]\n",
            "q14       1    2     3     4     5     6    7    8    9     10   11    12  \\\n",
            "DM2_1                                                                       \n",
            "20대 이하   4.8  6.0  17.9  10.7   8.3  19.0  9.5  7.1  0.0   6.0  3.6   1.2   \n",
            "30대      8.2  3.3  20.4   2.6  11.9  16.7  8.6  2.2  1.5  11.5  4.8   1.5   \n",
            "40대      3.2  1.6  23.1   7.0   4.3  18.3  6.5  2.7  1.6  23.1  4.3   2.2   \n",
            "50대     14.3  9.5  28.6   4.8   0.0   4.8  9.5  0.0  4.8   4.8  4.8  14.3   \n",
            "60대 이상  10.0  0.0  65.0   5.0   0.0  10.0  5.0  0.0  5.0   0.0  0.0   0.0   \n",
            "\n",
            "q14      13   14   15   16  \n",
            "DM2_1                       \n",
            "20대 이하  2.4  2.4  1.2  0.0  \n",
            "30대     2.2  3.7  0.7  0.0  \n",
            "40대     1.1  0.0  0.5  0.5  \n",
            "50대     0.0  0.0  0.0  0.0  \n",
            "60대 이상  0.0  0.0  0.0  0.0  \n"
          ]
        }
      ]
    }
  ]
}