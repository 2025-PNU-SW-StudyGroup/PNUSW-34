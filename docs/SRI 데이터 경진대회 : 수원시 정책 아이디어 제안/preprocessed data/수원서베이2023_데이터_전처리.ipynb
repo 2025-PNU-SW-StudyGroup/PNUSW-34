{
  "nbformat": 4,
  "nbformat_minor": 0,
  "metadata": {
    "colab": {
      "provenance": []
    },
    "kernelspec": {
      "name": "python3",
      "display_name": "Python 3"
    },
    "language_info": {
      "name": "python"
    }
  },
  "cells": [
    {
      "cell_type": "markdown",
      "source": [
        "#2023년 수원서베이 데이터"
      ],
      "metadata": {
        "id": "nSltgVo4YTrO"
      }
    },
    {
      "cell_type": "markdown",
      "source": [
        "데이터 불러오기\n"
      ],
      "metadata": {
        "id": "yJUiNKtqVQ-3"
      }
    },
    {
      "cell_type": "code",
      "source": [
        "from google.colab import drive\n",
        "drive.mount('/content/drive')"
      ],
      "metadata": {
        "colab": {
          "base_uri": "https://localhost:8080/"
        },
        "id": "9TC2gLQ1SyMI",
        "outputId": "3425480d-8e4f-4989-9dde-7209f0db58a7"
      },
      "execution_count": 1,
      "outputs": [
        {
          "output_type": "stream",
          "name": "stdout",
          "text": [
            "Mounted at /content/drive\n"
          ]
        }
      ]
    },
    {
      "cell_type": "code",
      "execution_count": 2,
      "metadata": {
        "colab": {
          "base_uri": "https://localhost:8080/"
        },
        "id": "E8lcwas8REOc",
        "outputId": "99b94f5c-6f5b-4825-b4a6-afbf80d711f1"
      },
      "outputs": [
        {
          "output_type": "stream",
          "name": "stdout",
          "text": [
            "  Unnamed: 0    총 가구원 수   출생년도1   출생년도2   출생년도3   출생년도4   출생년도5   출생년도6  \\\n",
            "0        PID  totgagu1s  birth1  birth2  birth3  birth4  birth5  birth6   \n",
            "1         50          3    1966    1968    1995     NaN     NaN     NaN   \n",
            "2         51          2    1958    1963     NaN     NaN     NaN     NaN   \n",
            "3         52          2    1996    1996     NaN     NaN     NaN     NaN   \n",
            "4         53          3    1989    1986    2020     NaN     NaN     NaN   \n",
            "\n",
            "       코드1      코드2  ... 현재 집 거주 기간 주택 유형 주택 점유 형태     직업 월평균 가구소득 경제사회적 위치  \\\n",
            "0  choice1  choice2  ...        DM8   DM9     DM10  DM101     DM11     DM12   \n",
            "1        1      NaN  ...          1     2        1      2        7        2   \n",
            "2        1      NaN  ...          1     2        1      3        7        3   \n",
            "3        1      NaN  ...          1     2        1      2        6        3   \n",
            "4        1      NaN  ...          1     2        1      4        5        3   \n",
            "\n",
            "   정치성향 정책 관심도 시민의견 수렴 정도 수원시정 만족도  \n",
            "0  DM13   ADD1       ADD2     ADD3  \n",
            "1     2      2          1        3  \n",
            "2     1      2          2        3  \n",
            "3     2      2          2        3  \n",
            "4     2      2          2        3  \n",
            "\n",
            "[5 rows x 406 columns]\n"
          ]
        }
      ],
      "source": [
        "import pandas as pd\n",
        "\n",
        "file_path = '/content/drive/MyDrive/suwon/(HRC250611) 2023년 수원서베이 용역_공개용 데이터(엑셀).xlsx'\n",
        "\n",
        "# .xlsx 파일 읽기\n",
        "df_survey23 = pd.read_excel(file_path)\n",
        "print(df_survey23.head())"
      ]
    },
    {
      "cell_type": "markdown",
      "source": [
        "1인 가구 수 찾기"
      ],
      "metadata": {
        "id": "bdH_aqLwVJK-"
      }
    },
    {
      "cell_type": "code",
      "source": [
        "question_code1 = \"totgagu1s\"\n",
        "\n",
        "code_row1 = df_survey23.iloc[0]\n",
        "target_col1 = code_row1[code_row1 == question_code1].index[0]\n",
        "response_series = df_survey23[target_col1].iloc[1:]\n",
        "response_series = pd.to_numeric(response_series, errors='coerce')\n",
        "\n",
        "# 1인 가구 수\n",
        "count_single = (response_series == 1).sum()\n",
        "\n",
        "# 다인 가구 수 (2~6 범위)\n",
        "count_multi = response_series.isin([2, 3, 4, 5, 6]).sum()\n",
        "\n",
        "\n",
        "print(f\"1인 가구 수: {count_single}명\")\n",
        "print(f\"다인 가구 수: {count_multi}명\")"
      ],
      "metadata": {
        "colab": {
          "base_uri": "https://localhost:8080/"
        },
        "id": "v6bX1gCMRzwq",
        "outputId": "a287187c-c48b-4562-b8a7-d9d89e92a45b"
      },
      "execution_count": 3,
      "outputs": [
        {
          "output_type": "stream",
          "name": "stdout",
          "text": [
            "1인 가구 수: 403명\n",
            "다인 가구 수: 1638명\n"
          ]
        }
      ]
    },
    {
      "cell_type": "code",
      "source": [
        "df_all = df_survey23.copy()\n",
        "\n",
        "# only1_df : 1인가구 응답자 데이터만 모음\n",
        "df_only_responses = df_all.iloc[1:]\n",
        "only1_df_before = df_only_responses[df_only_responses[target_col1] == 1]\n",
        "only1_df_before = only1_df_before.dropna(axis=1, how='all')\n",
        "\n",
        "# 문항 코드 행도 동일한 컬럼만 유지\n",
        "code_row_filtered = df_all.iloc[[0]][only1_df_before.columns]\n",
        "only1_df = pd.concat([code_row_filtered, only1_df_before], ignore_index=True)\n",
        "\n",
        "# 결과 확인\n",
        "only1_df.head()"
      ],
      "metadata": {
        "colab": {
          "base_uri": "https://localhost:8080/",
          "height": 270
        },
        "id": "8q7hMwUEbvWo",
        "outputId": "28b49884-b2a1-4336-dc2c-10b9782fa96a"
      },
      "execution_count": 4,
      "outputs": [
        {
          "output_type": "execute_result",
          "data": {
            "text/plain": [
              "  Unnamed: 0    총 가구원 수   출생년도1      코드1 가구주와의 관계1   성별1  응답자 성별 응답자 출생년도  \\\n",
              "0        PID  totgagu1s  birth1  choice1    relat1  sex1  gender    birth   \n",
              "1         56          1    1949        1         1     2       2        6   \n",
              "2         68          1    1999        1         1     2       2        1   \n",
              "3        123          1    1954        1         1     1       1        5   \n",
              "4        145          1    1990        1         1     2       2        2   \n",
              "\n",
              "  문1. 한 주 간 삶의 질 - 1. 행복했다 문1. 한 주 간 삶의 질 - 2. 가치있는 존재라고 생각했다  ... 현재 집 거주 기간  \\\n",
              "0                     Q1a1                               Q1a2  ...        DM8   \n",
              "1                        6                                  6  ...          3   \n",
              "2                        6                                  6  ...          1   \n",
              "3                        6                                  6  ...          1   \n",
              "4                        4                                  4  ...          1   \n",
              "\n",
              "  주택 유형 주택 점유 형태     직업 월평균 가구소득 경제사회적 위치  정치성향 정책 관심도 시민의견 수렴 정도 수원시정 만족도  \n",
              "0   DM9     DM10  DM101     DM11     DM12  DM13   ADD1       ADD2     ADD3  \n",
              "1     1        1      3        3        2     3      2          2        2  \n",
              "2     1        2      2        2        3     3      2          2        3  \n",
              "3     3        2      3        4        3     1      2          2        3  \n",
              "4     3        3      2        3        1     1      1          1        2  \n",
              "\n",
              "[5 rows x 376 columns]"
            ],
            "text/html": [
              "\n",
              "  <div id=\"df-3b70c276-a8d0-4e03-a926-9d9e0bc00e11\" class=\"colab-df-container\">\n",
              "    <div>\n",
              "<style scoped>\n",
              "    .dataframe tbody tr th:only-of-type {\n",
              "        vertical-align: middle;\n",
              "    }\n",
              "\n",
              "    .dataframe tbody tr th {\n",
              "        vertical-align: top;\n",
              "    }\n",
              "\n",
              "    .dataframe thead th {\n",
              "        text-align: right;\n",
              "    }\n",
              "</style>\n",
              "<table border=\"1\" class=\"dataframe\">\n",
              "  <thead>\n",
              "    <tr style=\"text-align: right;\">\n",
              "      <th></th>\n",
              "      <th>Unnamed: 0</th>\n",
              "      <th>총 가구원 수</th>\n",
              "      <th>출생년도1</th>\n",
              "      <th>코드1</th>\n",
              "      <th>가구주와의 관계1</th>\n",
              "      <th>성별1</th>\n",
              "      <th>응답자 성별</th>\n",
              "      <th>응답자 출생년도</th>\n",
              "      <th>문1. 한 주 간 삶의 질 - 1. 행복했다</th>\n",
              "      <th>문1. 한 주 간 삶의 질 - 2. 가치있는 존재라고 생각했다</th>\n",
              "      <th>...</th>\n",
              "      <th>현재 집 거주 기간</th>\n",
              "      <th>주택 유형</th>\n",
              "      <th>주택 점유 형태</th>\n",
              "      <th>직업</th>\n",
              "      <th>월평균 가구소득</th>\n",
              "      <th>경제사회적 위치</th>\n",
              "      <th>정치성향</th>\n",
              "      <th>정책 관심도</th>\n",
              "      <th>시민의견 수렴 정도</th>\n",
              "      <th>수원시정 만족도</th>\n",
              "    </tr>\n",
              "  </thead>\n",
              "  <tbody>\n",
              "    <tr>\n",
              "      <th>0</th>\n",
              "      <td>PID</td>\n",
              "      <td>totgagu1s</td>\n",
              "      <td>birth1</td>\n",
              "      <td>choice1</td>\n",
              "      <td>relat1</td>\n",
              "      <td>sex1</td>\n",
              "      <td>gender</td>\n",
              "      <td>birth</td>\n",
              "      <td>Q1a1</td>\n",
              "      <td>Q1a2</td>\n",
              "      <td>...</td>\n",
              "      <td>DM8</td>\n",
              "      <td>DM9</td>\n",
              "      <td>DM10</td>\n",
              "      <td>DM101</td>\n",
              "      <td>DM11</td>\n",
              "      <td>DM12</td>\n",
              "      <td>DM13</td>\n",
              "      <td>ADD1</td>\n",
              "      <td>ADD2</td>\n",
              "      <td>ADD3</td>\n",
              "    </tr>\n",
              "    <tr>\n",
              "      <th>1</th>\n",
              "      <td>56</td>\n",
              "      <td>1</td>\n",
              "      <td>1949</td>\n",
              "      <td>1</td>\n",
              "      <td>1</td>\n",
              "      <td>2</td>\n",
              "      <td>2</td>\n",
              "      <td>6</td>\n",
              "      <td>6</td>\n",
              "      <td>6</td>\n",
              "      <td>...</td>\n",
              "      <td>3</td>\n",
              "      <td>1</td>\n",
              "      <td>1</td>\n",
              "      <td>3</td>\n",
              "      <td>3</td>\n",
              "      <td>2</td>\n",
              "      <td>3</td>\n",
              "      <td>2</td>\n",
              "      <td>2</td>\n",
              "      <td>2</td>\n",
              "    </tr>\n",
              "    <tr>\n",
              "      <th>2</th>\n",
              "      <td>68</td>\n",
              "      <td>1</td>\n",
              "      <td>1999</td>\n",
              "      <td>1</td>\n",
              "      <td>1</td>\n",
              "      <td>2</td>\n",
              "      <td>2</td>\n",
              "      <td>1</td>\n",
              "      <td>6</td>\n",
              "      <td>6</td>\n",
              "      <td>...</td>\n",
              "      <td>1</td>\n",
              "      <td>1</td>\n",
              "      <td>2</td>\n",
              "      <td>2</td>\n",
              "      <td>2</td>\n",
              "      <td>3</td>\n",
              "      <td>3</td>\n",
              "      <td>2</td>\n",
              "      <td>2</td>\n",
              "      <td>3</td>\n",
              "    </tr>\n",
              "    <tr>\n",
              "      <th>3</th>\n",
              "      <td>123</td>\n",
              "      <td>1</td>\n",
              "      <td>1954</td>\n",
              "      <td>1</td>\n",
              "      <td>1</td>\n",
              "      <td>1</td>\n",
              "      <td>1</td>\n",
              "      <td>5</td>\n",
              "      <td>6</td>\n",
              "      <td>6</td>\n",
              "      <td>...</td>\n",
              "      <td>1</td>\n",
              "      <td>3</td>\n",
              "      <td>2</td>\n",
              "      <td>3</td>\n",
              "      <td>4</td>\n",
              "      <td>3</td>\n",
              "      <td>1</td>\n",
              "      <td>2</td>\n",
              "      <td>2</td>\n",
              "      <td>3</td>\n",
              "    </tr>\n",
              "    <tr>\n",
              "      <th>4</th>\n",
              "      <td>145</td>\n",
              "      <td>1</td>\n",
              "      <td>1990</td>\n",
              "      <td>1</td>\n",
              "      <td>1</td>\n",
              "      <td>2</td>\n",
              "      <td>2</td>\n",
              "      <td>2</td>\n",
              "      <td>4</td>\n",
              "      <td>4</td>\n",
              "      <td>...</td>\n",
              "      <td>1</td>\n",
              "      <td>3</td>\n",
              "      <td>3</td>\n",
              "      <td>2</td>\n",
              "      <td>3</td>\n",
              "      <td>1</td>\n",
              "      <td>1</td>\n",
              "      <td>1</td>\n",
              "      <td>1</td>\n",
              "      <td>2</td>\n",
              "    </tr>\n",
              "  </tbody>\n",
              "</table>\n",
              "<p>5 rows × 376 columns</p>\n",
              "</div>\n",
              "    <div class=\"colab-df-buttons\">\n",
              "\n",
              "  <div class=\"colab-df-container\">\n",
              "    <button class=\"colab-df-convert\" onclick=\"convertToInteractive('df-3b70c276-a8d0-4e03-a926-9d9e0bc00e11')\"\n",
              "            title=\"Convert this dataframe to an interactive table.\"\n",
              "            style=\"display:none;\">\n",
              "\n",
              "  <svg xmlns=\"http://www.w3.org/2000/svg\" height=\"24px\" viewBox=\"0 -960 960 960\">\n",
              "    <path d=\"M120-120v-720h720v720H120Zm60-500h600v-160H180v160Zm220 220h160v-160H400v160Zm0 220h160v-160H400v160ZM180-400h160v-160H180v160Zm440 0h160v-160H620v160ZM180-180h160v-160H180v160Zm440 0h160v-160H620v160Z\"/>\n",
              "  </svg>\n",
              "    </button>\n",
              "\n",
              "  <style>\n",
              "    .colab-df-container {\n",
              "      display:flex;\n",
              "      gap: 12px;\n",
              "    }\n",
              "\n",
              "    .colab-df-convert {\n",
              "      background-color: #E8F0FE;\n",
              "      border: none;\n",
              "      border-radius: 50%;\n",
              "      cursor: pointer;\n",
              "      display: none;\n",
              "      fill: #1967D2;\n",
              "      height: 32px;\n",
              "      padding: 0 0 0 0;\n",
              "      width: 32px;\n",
              "    }\n",
              "\n",
              "    .colab-df-convert:hover {\n",
              "      background-color: #E2EBFA;\n",
              "      box-shadow: 0px 1px 2px rgba(60, 64, 67, 0.3), 0px 1px 3px 1px rgba(60, 64, 67, 0.15);\n",
              "      fill: #174EA6;\n",
              "    }\n",
              "\n",
              "    .colab-df-buttons div {\n",
              "      margin-bottom: 4px;\n",
              "    }\n",
              "\n",
              "    [theme=dark] .colab-df-convert {\n",
              "      background-color: #3B4455;\n",
              "      fill: #D2E3FC;\n",
              "    }\n",
              "\n",
              "    [theme=dark] .colab-df-convert:hover {\n",
              "      background-color: #434B5C;\n",
              "      box-shadow: 0px 1px 3px 1px rgba(0, 0, 0, 0.15);\n",
              "      filter: drop-shadow(0px 1px 2px rgba(0, 0, 0, 0.3));\n",
              "      fill: #FFFFFF;\n",
              "    }\n",
              "  </style>\n",
              "\n",
              "    <script>\n",
              "      const buttonEl =\n",
              "        document.querySelector('#df-3b70c276-a8d0-4e03-a926-9d9e0bc00e11 button.colab-df-convert');\n",
              "      buttonEl.style.display =\n",
              "        google.colab.kernel.accessAllowed ? 'block' : 'none';\n",
              "\n",
              "      async function convertToInteractive(key) {\n",
              "        const element = document.querySelector('#df-3b70c276-a8d0-4e03-a926-9d9e0bc00e11');\n",
              "        const dataTable =\n",
              "          await google.colab.kernel.invokeFunction('convertToInteractive',\n",
              "                                                    [key], {});\n",
              "        if (!dataTable) return;\n",
              "\n",
              "        const docLinkHtml = 'Like what you see? Visit the ' +\n",
              "          '<a target=\"_blank\" href=https://colab.research.google.com/notebooks/data_table.ipynb>data table notebook</a>'\n",
              "          + ' to learn more about interactive tables.';\n",
              "        element.innerHTML = '';\n",
              "        dataTable['output_type'] = 'display_data';\n",
              "        await google.colab.output.renderOutput(dataTable, element);\n",
              "        const docLink = document.createElement('div');\n",
              "        docLink.innerHTML = docLinkHtml;\n",
              "        element.appendChild(docLink);\n",
              "      }\n",
              "    </script>\n",
              "  </div>\n",
              "\n",
              "\n",
              "    <div id=\"df-8d09a481-89f4-44f6-9447-176e9e8ecedd\">\n",
              "      <button class=\"colab-df-quickchart\" onclick=\"quickchart('df-8d09a481-89f4-44f6-9447-176e9e8ecedd')\"\n",
              "                title=\"Suggest charts\"\n",
              "                style=\"display:none;\">\n",
              "\n",
              "<svg xmlns=\"http://www.w3.org/2000/svg\" height=\"24px\"viewBox=\"0 0 24 24\"\n",
              "     width=\"24px\">\n",
              "    <g>\n",
              "        <path d=\"M19 3H5c-1.1 0-2 .9-2 2v14c0 1.1.9 2 2 2h14c1.1 0 2-.9 2-2V5c0-1.1-.9-2-2-2zM9 17H7v-7h2v7zm4 0h-2V7h2v10zm4 0h-2v-4h2v4z\"/>\n",
              "    </g>\n",
              "</svg>\n",
              "      </button>\n",
              "\n",
              "<style>\n",
              "  .colab-df-quickchart {\n",
              "      --bg-color: #E8F0FE;\n",
              "      --fill-color: #1967D2;\n",
              "      --hover-bg-color: #E2EBFA;\n",
              "      --hover-fill-color: #174EA6;\n",
              "      --disabled-fill-color: #AAA;\n",
              "      --disabled-bg-color: #DDD;\n",
              "  }\n",
              "\n",
              "  [theme=dark] .colab-df-quickchart {\n",
              "      --bg-color: #3B4455;\n",
              "      --fill-color: #D2E3FC;\n",
              "      --hover-bg-color: #434B5C;\n",
              "      --hover-fill-color: #FFFFFF;\n",
              "      --disabled-bg-color: #3B4455;\n",
              "      --disabled-fill-color: #666;\n",
              "  }\n",
              "\n",
              "  .colab-df-quickchart {\n",
              "    background-color: var(--bg-color);\n",
              "    border: none;\n",
              "    border-radius: 50%;\n",
              "    cursor: pointer;\n",
              "    display: none;\n",
              "    fill: var(--fill-color);\n",
              "    height: 32px;\n",
              "    padding: 0;\n",
              "    width: 32px;\n",
              "  }\n",
              "\n",
              "  .colab-df-quickchart:hover {\n",
              "    background-color: var(--hover-bg-color);\n",
              "    box-shadow: 0 1px 2px rgba(60, 64, 67, 0.3), 0 1px 3px 1px rgba(60, 64, 67, 0.15);\n",
              "    fill: var(--button-hover-fill-color);\n",
              "  }\n",
              "\n",
              "  .colab-df-quickchart-complete:disabled,\n",
              "  .colab-df-quickchart-complete:disabled:hover {\n",
              "    background-color: var(--disabled-bg-color);\n",
              "    fill: var(--disabled-fill-color);\n",
              "    box-shadow: none;\n",
              "  }\n",
              "\n",
              "  .colab-df-spinner {\n",
              "    border: 2px solid var(--fill-color);\n",
              "    border-color: transparent;\n",
              "    border-bottom-color: var(--fill-color);\n",
              "    animation:\n",
              "      spin 1s steps(1) infinite;\n",
              "  }\n",
              "\n",
              "  @keyframes spin {\n",
              "    0% {\n",
              "      border-color: transparent;\n",
              "      border-bottom-color: var(--fill-color);\n",
              "      border-left-color: var(--fill-color);\n",
              "    }\n",
              "    20% {\n",
              "      border-color: transparent;\n",
              "      border-left-color: var(--fill-color);\n",
              "      border-top-color: var(--fill-color);\n",
              "    }\n",
              "    30% {\n",
              "      border-color: transparent;\n",
              "      border-left-color: var(--fill-color);\n",
              "      border-top-color: var(--fill-color);\n",
              "      border-right-color: var(--fill-color);\n",
              "    }\n",
              "    40% {\n",
              "      border-color: transparent;\n",
              "      border-right-color: var(--fill-color);\n",
              "      border-top-color: var(--fill-color);\n",
              "    }\n",
              "    60% {\n",
              "      border-color: transparent;\n",
              "      border-right-color: var(--fill-color);\n",
              "    }\n",
              "    80% {\n",
              "      border-color: transparent;\n",
              "      border-right-color: var(--fill-color);\n",
              "      border-bottom-color: var(--fill-color);\n",
              "    }\n",
              "    90% {\n",
              "      border-color: transparent;\n",
              "      border-bottom-color: var(--fill-color);\n",
              "    }\n",
              "  }\n",
              "</style>\n",
              "\n",
              "      <script>\n",
              "        async function quickchart(key) {\n",
              "          const quickchartButtonEl =\n",
              "            document.querySelector('#' + key + ' button');\n",
              "          quickchartButtonEl.disabled = true;  // To prevent multiple clicks.\n",
              "          quickchartButtonEl.classList.add('colab-df-spinner');\n",
              "          try {\n",
              "            const charts = await google.colab.kernel.invokeFunction(\n",
              "                'suggestCharts', [key], {});\n",
              "          } catch (error) {\n",
              "            console.error('Error during call to suggestCharts:', error);\n",
              "          }\n",
              "          quickchartButtonEl.classList.remove('colab-df-spinner');\n",
              "          quickchartButtonEl.classList.add('colab-df-quickchart-complete');\n",
              "        }\n",
              "        (() => {\n",
              "          let quickchartButtonEl =\n",
              "            document.querySelector('#df-8d09a481-89f4-44f6-9447-176e9e8ecedd button');\n",
              "          quickchartButtonEl.style.display =\n",
              "            google.colab.kernel.accessAllowed ? 'block' : 'none';\n",
              "        })();\n",
              "      </script>\n",
              "    </div>\n",
              "\n",
              "    </div>\n",
              "  </div>\n"
            ],
            "application/vnd.google.colaboratory.intrinsic+json": {
              "type": "dataframe",
              "variable_name": "only1_df"
            }
          },
          "metadata": {},
          "execution_count": 4
        }
      ]
    },
    {
      "cell_type": "code",
      "source": [
        "code_row = df_survey23.iloc[0]\n",
        "\n",
        "birth_col = code_row[code_row == \"birth1\"].index[0]\n",
        "only1_responses = only1_df.iloc[1:]\n",
        "birth_series = pd.to_numeric(only1_responses[birth_col], errors='coerce')\n",
        "\n",
        "\n",
        "birth_filtered = only1_responses[(birth_series >= 1988) & (birth_series <= 2004)]\n",
        "only1_youth23 = pd.concat([only1_df.iloc[[0]], birth_filtered], ignore_index=True)\n",
        "\n",
        "only1_youth23.head()"
      ],
      "metadata": {
        "colab": {
          "base_uri": "https://localhost:8080/",
          "height": 270
        },
        "id": "YmgEwxe0TtTx",
        "outputId": "8c806996-77e8-48f3-ba42-54875f21c591"
      },
      "execution_count": 12,
      "outputs": [
        {
          "output_type": "execute_result",
          "data": {
            "text/plain": [
              "  Unnamed: 0    총 가구원 수   출생년도1      코드1 가구주와의 관계1   성별1  응답자 성별 응답자 출생년도  \\\n",
              "0        PID  totgagu1s  birth1  choice1    relat1  sex1  gender    birth   \n",
              "1         68          1    1999        1         1     2       2        1   \n",
              "2        145          1    1990        1         1     2       2        2   \n",
              "3        155          1    1988        1         1     1       1        2   \n",
              "4        156          1    1990        1         1     2       2        2   \n",
              "\n",
              "  문1. 한 주 간 삶의 질 - 1. 행복했다 문1. 한 주 간 삶의 질 - 2. 가치있는 존재라고 생각했다  ... 현재 집 거주 기간  \\\n",
              "0                     Q1a1                               Q1a2  ...        DM8   \n",
              "1                        6                                  6  ...          1   \n",
              "2                        4                                  4  ...          1   \n",
              "3                        5                                  5  ...          1   \n",
              "4                        6                                  6  ...          1   \n",
              "\n",
              "  주택 유형 주택 점유 형태     직업 월평균 가구소득 경제사회적 위치  정치성향 정책 관심도 시민의견 수렴 정도 수원시정 만족도  \n",
              "0   DM9     DM10  DM101     DM11     DM12  DM13   ADD1       ADD2     ADD3  \n",
              "1     1        2      2        2        3     3      2          2        3  \n",
              "2     3        3      2        3        1     1      1          1        2  \n",
              "3     4        3      3        3        1     3      2          2        3  \n",
              "4     4        3      3        2        1     3      3          3        3  \n",
              "\n",
              "[5 rows x 376 columns]"
            ],
            "text/html": [
              "\n",
              "  <div id=\"df-e50c2d60-9601-43b8-8987-a611fb5307b1\" class=\"colab-df-container\">\n",
              "    <div>\n",
              "<style scoped>\n",
              "    .dataframe tbody tr th:only-of-type {\n",
              "        vertical-align: middle;\n",
              "    }\n",
              "\n",
              "    .dataframe tbody tr th {\n",
              "        vertical-align: top;\n",
              "    }\n",
              "\n",
              "    .dataframe thead th {\n",
              "        text-align: right;\n",
              "    }\n",
              "</style>\n",
              "<table border=\"1\" class=\"dataframe\">\n",
              "  <thead>\n",
              "    <tr style=\"text-align: right;\">\n",
              "      <th></th>\n",
              "      <th>Unnamed: 0</th>\n",
              "      <th>총 가구원 수</th>\n",
              "      <th>출생년도1</th>\n",
              "      <th>코드1</th>\n",
              "      <th>가구주와의 관계1</th>\n",
              "      <th>성별1</th>\n",
              "      <th>응답자 성별</th>\n",
              "      <th>응답자 출생년도</th>\n",
              "      <th>문1. 한 주 간 삶의 질 - 1. 행복했다</th>\n",
              "      <th>문1. 한 주 간 삶의 질 - 2. 가치있는 존재라고 생각했다</th>\n",
              "      <th>...</th>\n",
              "      <th>현재 집 거주 기간</th>\n",
              "      <th>주택 유형</th>\n",
              "      <th>주택 점유 형태</th>\n",
              "      <th>직업</th>\n",
              "      <th>월평균 가구소득</th>\n",
              "      <th>경제사회적 위치</th>\n",
              "      <th>정치성향</th>\n",
              "      <th>정책 관심도</th>\n",
              "      <th>시민의견 수렴 정도</th>\n",
              "      <th>수원시정 만족도</th>\n",
              "    </tr>\n",
              "  </thead>\n",
              "  <tbody>\n",
              "    <tr>\n",
              "      <th>0</th>\n",
              "      <td>PID</td>\n",
              "      <td>totgagu1s</td>\n",
              "      <td>birth1</td>\n",
              "      <td>choice1</td>\n",
              "      <td>relat1</td>\n",
              "      <td>sex1</td>\n",
              "      <td>gender</td>\n",
              "      <td>birth</td>\n",
              "      <td>Q1a1</td>\n",
              "      <td>Q1a2</td>\n",
              "      <td>...</td>\n",
              "      <td>DM8</td>\n",
              "      <td>DM9</td>\n",
              "      <td>DM10</td>\n",
              "      <td>DM101</td>\n",
              "      <td>DM11</td>\n",
              "      <td>DM12</td>\n",
              "      <td>DM13</td>\n",
              "      <td>ADD1</td>\n",
              "      <td>ADD2</td>\n",
              "      <td>ADD3</td>\n",
              "    </tr>\n",
              "    <tr>\n",
              "      <th>1</th>\n",
              "      <td>68</td>\n",
              "      <td>1</td>\n",
              "      <td>1999</td>\n",
              "      <td>1</td>\n",
              "      <td>1</td>\n",
              "      <td>2</td>\n",
              "      <td>2</td>\n",
              "      <td>1</td>\n",
              "      <td>6</td>\n",
              "      <td>6</td>\n",
              "      <td>...</td>\n",
              "      <td>1</td>\n",
              "      <td>1</td>\n",
              "      <td>2</td>\n",
              "      <td>2</td>\n",
              "      <td>2</td>\n",
              "      <td>3</td>\n",
              "      <td>3</td>\n",
              "      <td>2</td>\n",
              "      <td>2</td>\n",
              "      <td>3</td>\n",
              "    </tr>\n",
              "    <tr>\n",
              "      <th>2</th>\n",
              "      <td>145</td>\n",
              "      <td>1</td>\n",
              "      <td>1990</td>\n",
              "      <td>1</td>\n",
              "      <td>1</td>\n",
              "      <td>2</td>\n",
              "      <td>2</td>\n",
              "      <td>2</td>\n",
              "      <td>4</td>\n",
              "      <td>4</td>\n",
              "      <td>...</td>\n",
              "      <td>1</td>\n",
              "      <td>3</td>\n",
              "      <td>3</td>\n",
              "      <td>2</td>\n",
              "      <td>3</td>\n",
              "      <td>1</td>\n",
              "      <td>1</td>\n",
              "      <td>1</td>\n",
              "      <td>1</td>\n",
              "      <td>2</td>\n",
              "    </tr>\n",
              "    <tr>\n",
              "      <th>3</th>\n",
              "      <td>155</td>\n",
              "      <td>1</td>\n",
              "      <td>1988</td>\n",
              "      <td>1</td>\n",
              "      <td>1</td>\n",
              "      <td>1</td>\n",
              "      <td>1</td>\n",
              "      <td>2</td>\n",
              "      <td>5</td>\n",
              "      <td>5</td>\n",
              "      <td>...</td>\n",
              "      <td>1</td>\n",
              "      <td>4</td>\n",
              "      <td>3</td>\n",
              "      <td>3</td>\n",
              "      <td>3</td>\n",
              "      <td>1</td>\n",
              "      <td>3</td>\n",
              "      <td>2</td>\n",
              "      <td>2</td>\n",
              "      <td>3</td>\n",
              "    </tr>\n",
              "    <tr>\n",
              "      <th>4</th>\n",
              "      <td>156</td>\n",
              "      <td>1</td>\n",
              "      <td>1990</td>\n",
              "      <td>1</td>\n",
              "      <td>1</td>\n",
              "      <td>2</td>\n",
              "      <td>2</td>\n",
              "      <td>2</td>\n",
              "      <td>6</td>\n",
              "      <td>6</td>\n",
              "      <td>...</td>\n",
              "      <td>1</td>\n",
              "      <td>4</td>\n",
              "      <td>3</td>\n",
              "      <td>3</td>\n",
              "      <td>2</td>\n",
              "      <td>1</td>\n",
              "      <td>3</td>\n",
              "      <td>3</td>\n",
              "      <td>3</td>\n",
              "      <td>3</td>\n",
              "    </tr>\n",
              "  </tbody>\n",
              "</table>\n",
              "<p>5 rows × 376 columns</p>\n",
              "</div>\n",
              "    <div class=\"colab-df-buttons\">\n",
              "\n",
              "  <div class=\"colab-df-container\">\n",
              "    <button class=\"colab-df-convert\" onclick=\"convertToInteractive('df-e50c2d60-9601-43b8-8987-a611fb5307b1')\"\n",
              "            title=\"Convert this dataframe to an interactive table.\"\n",
              "            style=\"display:none;\">\n",
              "\n",
              "  <svg xmlns=\"http://www.w3.org/2000/svg\" height=\"24px\" viewBox=\"0 -960 960 960\">\n",
              "    <path d=\"M120-120v-720h720v720H120Zm60-500h600v-160H180v160Zm220 220h160v-160H400v160Zm0 220h160v-160H400v160ZM180-400h160v-160H180v160Zm440 0h160v-160H620v160ZM180-180h160v-160H180v160Zm440 0h160v-160H620v160Z\"/>\n",
              "  </svg>\n",
              "    </button>\n",
              "\n",
              "  <style>\n",
              "    .colab-df-container {\n",
              "      display:flex;\n",
              "      gap: 12px;\n",
              "    }\n",
              "\n",
              "    .colab-df-convert {\n",
              "      background-color: #E8F0FE;\n",
              "      border: none;\n",
              "      border-radius: 50%;\n",
              "      cursor: pointer;\n",
              "      display: none;\n",
              "      fill: #1967D2;\n",
              "      height: 32px;\n",
              "      padding: 0 0 0 0;\n",
              "      width: 32px;\n",
              "    }\n",
              "\n",
              "    .colab-df-convert:hover {\n",
              "      background-color: #E2EBFA;\n",
              "      box-shadow: 0px 1px 2px rgba(60, 64, 67, 0.3), 0px 1px 3px 1px rgba(60, 64, 67, 0.15);\n",
              "      fill: #174EA6;\n",
              "    }\n",
              "\n",
              "    .colab-df-buttons div {\n",
              "      margin-bottom: 4px;\n",
              "    }\n",
              "\n",
              "    [theme=dark] .colab-df-convert {\n",
              "      background-color: #3B4455;\n",
              "      fill: #D2E3FC;\n",
              "    }\n",
              "\n",
              "    [theme=dark] .colab-df-convert:hover {\n",
              "      background-color: #434B5C;\n",
              "      box-shadow: 0px 1px 3px 1px rgba(0, 0, 0, 0.15);\n",
              "      filter: drop-shadow(0px 1px 2px rgba(0, 0, 0, 0.3));\n",
              "      fill: #FFFFFF;\n",
              "    }\n",
              "  </style>\n",
              "\n",
              "    <script>\n",
              "      const buttonEl =\n",
              "        document.querySelector('#df-e50c2d60-9601-43b8-8987-a611fb5307b1 button.colab-df-convert');\n",
              "      buttonEl.style.display =\n",
              "        google.colab.kernel.accessAllowed ? 'block' : 'none';\n",
              "\n",
              "      async function convertToInteractive(key) {\n",
              "        const element = document.querySelector('#df-e50c2d60-9601-43b8-8987-a611fb5307b1');\n",
              "        const dataTable =\n",
              "          await google.colab.kernel.invokeFunction('convertToInteractive',\n",
              "                                                    [key], {});\n",
              "        if (!dataTable) return;\n",
              "\n",
              "        const docLinkHtml = 'Like what you see? Visit the ' +\n",
              "          '<a target=\"_blank\" href=https://colab.research.google.com/notebooks/data_table.ipynb>data table notebook</a>'\n",
              "          + ' to learn more about interactive tables.';\n",
              "        element.innerHTML = '';\n",
              "        dataTable['output_type'] = 'display_data';\n",
              "        await google.colab.output.renderOutput(dataTable, element);\n",
              "        const docLink = document.createElement('div');\n",
              "        docLink.innerHTML = docLinkHtml;\n",
              "        element.appendChild(docLink);\n",
              "      }\n",
              "    </script>\n",
              "  </div>\n",
              "\n",
              "\n",
              "    <div id=\"df-8243bdd6-88ff-4d95-ab61-944c5a3126a0\">\n",
              "      <button class=\"colab-df-quickchart\" onclick=\"quickchart('df-8243bdd6-88ff-4d95-ab61-944c5a3126a0')\"\n",
              "                title=\"Suggest charts\"\n",
              "                style=\"display:none;\">\n",
              "\n",
              "<svg xmlns=\"http://www.w3.org/2000/svg\" height=\"24px\"viewBox=\"0 0 24 24\"\n",
              "     width=\"24px\">\n",
              "    <g>\n",
              "        <path d=\"M19 3H5c-1.1 0-2 .9-2 2v14c0 1.1.9 2 2 2h14c1.1 0 2-.9 2-2V5c0-1.1-.9-2-2-2zM9 17H7v-7h2v7zm4 0h-2V7h2v10zm4 0h-2v-4h2v4z\"/>\n",
              "    </g>\n",
              "</svg>\n",
              "      </button>\n",
              "\n",
              "<style>\n",
              "  .colab-df-quickchart {\n",
              "      --bg-color: #E8F0FE;\n",
              "      --fill-color: #1967D2;\n",
              "      --hover-bg-color: #E2EBFA;\n",
              "      --hover-fill-color: #174EA6;\n",
              "      --disabled-fill-color: #AAA;\n",
              "      --disabled-bg-color: #DDD;\n",
              "  }\n",
              "\n",
              "  [theme=dark] .colab-df-quickchart {\n",
              "      --bg-color: #3B4455;\n",
              "      --fill-color: #D2E3FC;\n",
              "      --hover-bg-color: #434B5C;\n",
              "      --hover-fill-color: #FFFFFF;\n",
              "      --disabled-bg-color: #3B4455;\n",
              "      --disabled-fill-color: #666;\n",
              "  }\n",
              "\n",
              "  .colab-df-quickchart {\n",
              "    background-color: var(--bg-color);\n",
              "    border: none;\n",
              "    border-radius: 50%;\n",
              "    cursor: pointer;\n",
              "    display: none;\n",
              "    fill: var(--fill-color);\n",
              "    height: 32px;\n",
              "    padding: 0;\n",
              "    width: 32px;\n",
              "  }\n",
              "\n",
              "  .colab-df-quickchart:hover {\n",
              "    background-color: var(--hover-bg-color);\n",
              "    box-shadow: 0 1px 2px rgba(60, 64, 67, 0.3), 0 1px 3px 1px rgba(60, 64, 67, 0.15);\n",
              "    fill: var(--button-hover-fill-color);\n",
              "  }\n",
              "\n",
              "  .colab-df-quickchart-complete:disabled,\n",
              "  .colab-df-quickchart-complete:disabled:hover {\n",
              "    background-color: var(--disabled-bg-color);\n",
              "    fill: var(--disabled-fill-color);\n",
              "    box-shadow: none;\n",
              "  }\n",
              "\n",
              "  .colab-df-spinner {\n",
              "    border: 2px solid var(--fill-color);\n",
              "    border-color: transparent;\n",
              "    border-bottom-color: var(--fill-color);\n",
              "    animation:\n",
              "      spin 1s steps(1) infinite;\n",
              "  }\n",
              "\n",
              "  @keyframes spin {\n",
              "    0% {\n",
              "      border-color: transparent;\n",
              "      border-bottom-color: var(--fill-color);\n",
              "      border-left-color: var(--fill-color);\n",
              "    }\n",
              "    20% {\n",
              "      border-color: transparent;\n",
              "      border-left-color: var(--fill-color);\n",
              "      border-top-color: var(--fill-color);\n",
              "    }\n",
              "    30% {\n",
              "      border-color: transparent;\n",
              "      border-left-color: var(--fill-color);\n",
              "      border-top-color: var(--fill-color);\n",
              "      border-right-color: var(--fill-color);\n",
              "    }\n",
              "    40% {\n",
              "      border-color: transparent;\n",
              "      border-right-color: var(--fill-color);\n",
              "      border-top-color: var(--fill-color);\n",
              "    }\n",
              "    60% {\n",
              "      border-color: transparent;\n",
              "      border-right-color: var(--fill-color);\n",
              "    }\n",
              "    80% {\n",
              "      border-color: transparent;\n",
              "      border-right-color: var(--fill-color);\n",
              "      border-bottom-color: var(--fill-color);\n",
              "    }\n",
              "    90% {\n",
              "      border-color: transparent;\n",
              "      border-bottom-color: var(--fill-color);\n",
              "    }\n",
              "  }\n",
              "</style>\n",
              "\n",
              "      <script>\n",
              "        async function quickchart(key) {\n",
              "          const quickchartButtonEl =\n",
              "            document.querySelector('#' + key + ' button');\n",
              "          quickchartButtonEl.disabled = true;  // To prevent multiple clicks.\n",
              "          quickchartButtonEl.classList.add('colab-df-spinner');\n",
              "          try {\n",
              "            const charts = await google.colab.kernel.invokeFunction(\n",
              "                'suggestCharts', [key], {});\n",
              "          } catch (error) {\n",
              "            console.error('Error during call to suggestCharts:', error);\n",
              "          }\n",
              "          quickchartButtonEl.classList.remove('colab-df-spinner');\n",
              "          quickchartButtonEl.classList.add('colab-df-quickchart-complete');\n",
              "        }\n",
              "        (() => {\n",
              "          let quickchartButtonEl =\n",
              "            document.querySelector('#df-8243bdd6-88ff-4d95-ab61-944c5a3126a0 button');\n",
              "          quickchartButtonEl.style.display =\n",
              "            google.colab.kernel.accessAllowed ? 'block' : 'none';\n",
              "        })();\n",
              "      </script>\n",
              "    </div>\n",
              "\n",
              "    </div>\n",
              "  </div>\n"
            ],
            "application/vnd.google.colaboratory.intrinsic+json": {
              "type": "dataframe",
              "variable_name": "only1_youth23"
            }
          },
          "metadata": {},
          "execution_count": 12
        }
      ]
    },
    {
      "cell_type": "code",
      "source": [
        "only1_youth23.shape[0]"
      ],
      "metadata": {
        "colab": {
          "base_uri": "https://localhost:8080/"
        },
        "id": "23t0A030UaQ5",
        "outputId": "4c7e8ea5-ab91-41fb-ea9e-03b3bf5e4d05"
      },
      "execution_count": 13,
      "outputs": [
        {
          "output_type": "execute_result",
          "data": {
            "text/plain": [
              "158"
            ]
          },
          "metadata": {},
          "execution_count": 13
        }
      ]
    },
    {
      "cell_type": "markdown",
      "source": [
        "1인가구 대상, 수원 시민들의 삶의 질 알아보기"
      ],
      "metadata": {
        "id": "E8Dcygp-dYAr"
      }
    },
    {
      "cell_type": "markdown",
      "source": [
        "1. 행복했다"
      ],
      "metadata": {
        "id": "CF3UMLcEd2Y1"
      }
    },
    {
      "cell_type": "code",
      "source": [
        "question_code2 = \"Q1a1\"\n",
        "\n",
        "code_row2 = only1_youth23.iloc[0]\n",
        "target_col2 = code_row2[code_row2 == question_code2].index[0]\n",
        "\n",
        "\n",
        "response_series = only1_youth23[target_col2].iloc[1:]\n",
        "count_result = response_series.value_counts().sort_index()\n",
        "\n",
        "\n",
        "label_map2 = {\n",
        "    1: \"① 전혀 그렇지 않다\",\n",
        "    2: \"② 많이 그렇지 않다\",\n",
        "    3: \"③ 조금 그렇지 않다\",\n",
        "    4: \"④ 보통\",\n",
        "    5: \"⑤ 약간 그렇다\",\n",
        "    6: \"⑥ 그렇다\",\n",
        "    7: \"⑦ 매우 그렇다\"\n",
        "}\n",
        "\n",
        "\n",
        "print(f'한주 간 삶의 질 - \"1. 행복했다\"')\n",
        "\n",
        "for code, label in label_map2.items():\n",
        "    count = count_result.get(code, 0)\n",
        "    print(f\"{label}: {count}명\")"
      ],
      "metadata": {
        "colab": {
          "base_uri": "https://localhost:8080/"
        },
        "id": "-ZLNIwlSWTyA",
        "outputId": "8b22e2c2-9826-4e1a-8bb9-508a89cf707d"
      },
      "execution_count": 14,
      "outputs": [
        {
          "output_type": "stream",
          "name": "stdout",
          "text": [
            "한주 간 삶의 질 - \"1. 행복했다\"\n",
            "① 전혀 그렇지 않다: 0명\n",
            "② 많이 그렇지 않다: 0명\n",
            "③ 조금 그렇지 않다: 1명\n",
            "④ 보통: 34명\n",
            "⑤ 약간 그렇다: 66명\n",
            "⑥ 그렇다: 51명\n",
            "⑦ 매우 그렇다: 5명\n"
          ]
        }
      ]
    },
    {
      "cell_type": "markdown",
      "source": [
        "2. 가치있는 존재라고 생각했다"
      ],
      "metadata": {
        "id": "vyU-Xdlad4XG"
      }
    },
    {
      "cell_type": "code",
      "source": [
        "question_code3 = \"Q1a2\"\n",
        "\n",
        "code_row3 = only1_youth23.iloc[0]\n",
        "target_col3 = code_row3[code_row3 == question_code3].index[0]\n",
        "\n",
        "\n",
        "response_series = only1_youth23[target_col3].iloc[1:]\n",
        "count_result = response_series.value_counts().sort_index()\n",
        "\n",
        "\n",
        "label_map3 = {\n",
        "    1: \"① 전혀 그렇지 않다\",\n",
        "    2: \"② 많이 그렇지 않다\",\n",
        "    3: \"③ 조금 그렇지 않다\",\n",
        "    4: \"④ 보통\",\n",
        "    5: \"⑤ 약간 그렇다\",\n",
        "    6: \"⑥ 그렇다\",\n",
        "    7: \"⑦ 매우 그렇다\"\n",
        "}\n",
        "\n",
        "\n",
        "print(f'한주 간 삶의 질 - \"2. 가치있는 존재라고 생각했다\"')\n",
        "\n",
        "for code, label in label_map3.items():\n",
        "    count = count_result.get(code, 0)\n",
        "    print(f\"{label}: {count}명\")"
      ],
      "metadata": {
        "colab": {
          "base_uri": "https://localhost:8080/"
        },
        "id": "Sg44LM49a2it",
        "outputId": "e576dbed-3da8-4776-dbd5-2b86bb1502af"
      },
      "execution_count": 15,
      "outputs": [
        {
          "output_type": "stream",
          "name": "stdout",
          "text": [
            "한주 간 삶의 질 - \"2. 가치있는 존재라고 생각했다\"\n",
            "① 전혀 그렇지 않다: 0명\n",
            "② 많이 그렇지 않다: 0명\n",
            "③ 조금 그렇지 않다: 5명\n",
            "④ 보통: 17명\n",
            "⑤ 약간 그렇다: 61명\n",
            "⑥ 그렇다: 69명\n",
            "⑦ 매우 그렇다: 5명\n"
          ]
        }
      ]
    },
    {
      "cell_type": "markdown",
      "source": [
        "3. 건강하다고 느꼈다"
      ],
      "metadata": {
        "id": "FYk9chCBd5zQ"
      }
    },
    {
      "cell_type": "code",
      "source": [
        "question_code4 = \"Q1a3\"\n",
        "\n",
        "code_row4 = only1_youth23.iloc[0]\n",
        "target_col4 = code_row4[code_row4 == question_code4].index[0]\n",
        "\n",
        "\n",
        "response_series = only1_youth23[target_col4].iloc[1:]\n",
        "count_result = response_series.value_counts().sort_index()\n",
        "\n",
        "\n",
        "label_map4 = {\n",
        "    1: \"① 전혀 그렇지 않다\",\n",
        "    2: \"② 별로 그렇지 않다\",\n",
        "    3: \"③ 조금 그렇지 않다\",\n",
        "    4: \"④ 보통\",\n",
        "    5: \"⑤ 약간 그렇다\",\n",
        "    6: \"⑥ 그렇다\",\n",
        "    7: \"⑦ 매우 그렇다\"\n",
        "}\n",
        "\n",
        "\n",
        "print(f'한주 간 삶의 질 - \"3. 건강하다고 느꼈다\"')\n",
        "\n",
        "for code, label in label_map4.items():\n",
        "    count = count_result.get(code, 0)\n",
        "    print(f\"{label}: {count}명\")"
      ],
      "metadata": {
        "colab": {
          "base_uri": "https://localhost:8080/"
        },
        "id": "m8ExZny7dJL9",
        "outputId": "bcb9d9df-45cf-4576-e334-82dfb77359b0"
      },
      "execution_count": 16,
      "outputs": [
        {
          "output_type": "stream",
          "name": "stdout",
          "text": [
            "한주 간 삶의 질 - \"3. 건강하다고 느꼈다\"\n",
            "① 전혀 그렇지 않다: 0명\n",
            "② 별로 그렇지 않다: 0명\n",
            "③ 조금 그렇지 않다: 6명\n",
            "④ 보통: 24명\n",
            "⑤ 약간 그렇다: 55명\n",
            "⑥ 그렇다: 47명\n",
            "⑦ 매우 그렇다: 25명\n"
          ]
        }
      ]
    },
    {
      "cell_type": "markdown",
      "source": [
        "4. 내 삶에 대해 만족했다"
      ],
      "metadata": {
        "id": "NTf334R9d7Qe"
      }
    },
    {
      "cell_type": "code",
      "source": [
        "question_code5 = \"Q1a4\"\n",
        "\n",
        "code_row5 = only1_youth23.iloc[0]\n",
        "target_col5 = code_row5[code_row5 == question_code5].index[0]\n",
        "\n",
        "\n",
        "response_series = only1_youth23[target_col5].iloc[1:]\n",
        "count_result = response_series.value_counts().sort_index()\n",
        "\n",
        "\n",
        "label_map5 = {\n",
        "    1: \"① 전혀 그렇지 않다\",\n",
        "    2: \"② 별로 그렇지 않다\",\n",
        "    3: \"③ 조금 그렇지 않다\",\n",
        "    4: \"④ 보통\",\n",
        "    5: \"⑤ 약간 그렇다\",\n",
        "    6: \"⑥ 그렇다\",\n",
        "    7: \"⑦ 매우 그렇다\"\n",
        "}\n",
        "\n",
        "\n",
        "print(f'한주 간 삶의 질 - \"4. 내 삶에 대해 만족했다\"')\n",
        "\n",
        "for code, label in label_map5.items():\n",
        "    count = count_result.get(code, 0)\n",
        "    print(f\"{label}: {count}명\")"
      ],
      "metadata": {
        "colab": {
          "base_uri": "https://localhost:8080/"
        },
        "id": "PhNkCCL0dU2q",
        "outputId": "f9fae243-d005-4b31-a746-219e7a07eab4"
      },
      "execution_count": 17,
      "outputs": [
        {
          "output_type": "stream",
          "name": "stdout",
          "text": [
            "한주 간 삶의 질 - \"4. 내 삶에 대해 만족했다\"\n",
            "① 전혀 그렇지 않다: 0명\n",
            "② 별로 그렇지 않다: 0명\n",
            "③ 조금 그렇지 않다: 4명\n",
            "④ 보통: 33명\n",
            "⑤ 약간 그렇다: 73명\n",
            "⑥ 그렇다: 41명\n",
            "⑦ 매우 그렇다: 6명\n"
          ]
        }
      ]
    },
    {
      "cell_type": "markdown",
      "source": [
        "5. 외로웠다"
      ],
      "metadata": {
        "id": "4BtmDHk4d8qp"
      }
    },
    {
      "cell_type": "code",
      "source": [
        "question_code6 = \"Q1a5\"\n",
        "\n",
        "code_row6 = only1_youth23.iloc[0]\n",
        "target_col6 = code_row6[code_row6 == question_code6].index[0]\n",
        "\n",
        "\n",
        "response_series = only1_youth23[target_col6].iloc[1:]\n",
        "count_result = response_series.value_counts().sort_index()\n",
        "\n",
        "\n",
        "label_map6 = {\n",
        "    1: \"① 전혀 그렇지 않다\",\n",
        "    2: \"② 별로 그렇지 않다\",\n",
        "    3: \"③ 조금 그렇지 않다\",\n",
        "    4: \"④ 보통\",\n",
        "    5: \"⑤ 약간 그렇다\",\n",
        "    6: \"⑥ 그렇다\",\n",
        "    7: \"⑦ 매우 그렇다\"\n",
        "}\n",
        "\n",
        "\n",
        "print(f'한주 간 삶의 질 - \"5. 외로웠다\"')\n",
        "\n",
        "for code, label in label_map6.items():\n",
        "    count = count_result.get(code, 0)\n",
        "    print(f\"{label}: {count}명\")"
      ],
      "metadata": {
        "colab": {
          "base_uri": "https://localhost:8080/"
        },
        "id": "ov5HnXdgdoG5",
        "outputId": "1bd79354-bbfe-4f2f-b669-f3971b85a0a6"
      },
      "execution_count": 18,
      "outputs": [
        {
          "output_type": "stream",
          "name": "stdout",
          "text": [
            "한주 간 삶의 질 - \"5. 외로웠다\"\n",
            "① 전혀 그렇지 않다: 5명\n",
            "② 별로 그렇지 않다: 22명\n",
            "③ 조금 그렇지 않다: 42명\n",
            "④ 보통: 51명\n",
            "⑤ 약간 그렇다: 30명\n",
            "⑥ 그렇다: 7명\n",
            "⑦ 매우 그렇다: 0명\n"
          ]
        }
      ]
    },
    {
      "cell_type": "markdown",
      "source": [
        "6. 걱정을 많이 했다"
      ],
      "metadata": {
        "id": "DUVYxpDreHDt"
      }
    },
    {
      "cell_type": "code",
      "source": [
        "question_code7 = \"Q1a6\"\n",
        "\n",
        "code_row7 = only1_youth23.iloc[0]\n",
        "target_col7 = code_row7[code_row7 == question_code7].index[0]\n",
        "\n",
        "\n",
        "response_series = only1_youth23[target_col7].iloc[1:]\n",
        "count_result = response_series.value_counts().sort_index()\n",
        "\n",
        "\n",
        "label_map7 = {\n",
        "    1: \"① 전혀 그렇지 않다\",\n",
        "    2: \"② 별로 그렇지 않다\",\n",
        "    3: \"③ 조금 그렇지 않다\",\n",
        "    4: \"④ 보통\",\n",
        "    5: \"⑤ 약간 그렇다\",\n",
        "    6: \"⑥ 그렇다\",\n",
        "    7: \"⑦ 매우 그렇다\"\n",
        "}\n",
        "\n",
        "\n",
        "print(f'한주 간 삶의 질 - \"6. 걱정을 많이 했다\"')\n",
        "\n",
        "for code, label in label_map7.items():\n",
        "    count = count_result.get(code, 0)\n",
        "    print(f\"{label}: {count}명\")"
      ],
      "metadata": {
        "colab": {
          "base_uri": "https://localhost:8080/"
        },
        "id": "Iwie09mbdzjb",
        "outputId": "f52dd3ef-c7c3-4d72-9497-953f85e86490"
      },
      "execution_count": 19,
      "outputs": [
        {
          "output_type": "stream",
          "name": "stdout",
          "text": [
            "한주 간 삶의 질 - \"6. 걱정을 많이 했다\"\n",
            "① 전혀 그렇지 않다: 4명\n",
            "② 별로 그렇지 않다: 31명\n",
            "③ 조금 그렇지 않다: 37명\n",
            "④ 보통: 38명\n",
            "⑤ 약간 그렇다: 33명\n",
            "⑥ 그렇다: 14명\n",
            "⑦ 매우 그렇다: 0명\n"
          ]
        }
      ]
    },
    {
      "cell_type": "markdown",
      "source": [
        "7. 우울했다"
      ],
      "metadata": {
        "id": "SQW6wAAFeQX7"
      }
    },
    {
      "cell_type": "code",
      "source": [
        "question_code8 = \"Q1a7\"\n",
        "\n",
        "code_row8 = only1_youth23.iloc[0]\n",
        "target_col8 = code_row8[code_row8 == question_code8].index[0]\n",
        "\n",
        "\n",
        "response_series = only1_youth23[target_col8].iloc[1:]\n",
        "count_result = response_series.value_counts().sort_index()\n",
        "\n",
        "\n",
        "label_map8 = {\n",
        "    1: \"① 전혀 그렇지 않다\",\n",
        "    2: \"② 별로 그렇지 않다\",\n",
        "    3: \"③ 조금 그렇지 않다\",\n",
        "    4: \"④ 보통\",\n",
        "    5: \"⑤ 약간 그렇다\",\n",
        "    6: \"⑥ 그렇다\",\n",
        "    7: \"⑦ 매우 그렇다\"\n",
        "}\n",
        "\n",
        "\n",
        "print(f'한주 간 삶의 질 - \"7. 우울했다\"')\n",
        "\n",
        "for code, label in label_map8.items():\n",
        "    count = count_result.get(code, 0)\n",
        "    print(f\"{label}: {count}명\")"
      ],
      "metadata": {
        "colab": {
          "base_uri": "https://localhost:8080/"
        },
        "id": "g2gu6LXBeH5A",
        "outputId": "be902ebd-5960-4df2-8130-e67581e8de51"
      },
      "execution_count": 20,
      "outputs": [
        {
          "output_type": "stream",
          "name": "stdout",
          "text": [
            "한주 간 삶의 질 - \"7. 우울했다\"\n",
            "① 전혀 그렇지 않다: 17명\n",
            "② 별로 그렇지 않다: 32명\n",
            "③ 조금 그렇지 않다: 35명\n",
            "④ 보통: 44명\n",
            "⑤ 약간 그렇다: 24명\n",
            "⑥ 그렇다: 5명\n",
            "⑦ 매우 그렇다: 0명\n"
          ]
        }
      ]
    },
    {
      "cell_type": "markdown",
      "source": [
        "1인 가구 대상, 수원 시민들의 복지 체감도"
      ],
      "metadata": {
        "id": "nbzpXB4GejIZ"
      }
    },
    {
      "cell_type": "markdown",
      "source": [
        "수원시 환경만족도 - 복지환경"
      ],
      "metadata": {
        "id": "Kl_IivhbgDAn"
      }
    },
    {
      "cell_type": "code",
      "source": [
        "question_code9 = \"Q3a4\"\n",
        "\n",
        "code_row9 = only1_youth23.iloc[0]\n",
        "target_col9 = code_row9[code_row9 == question_code9].index[0]\n",
        "\n",
        "\n",
        "response_series = only1_youth23[target_col9].iloc[1:]\n",
        "count_result = response_series.value_counts().sort_index()\n",
        "\n",
        "\n",
        "label_map9 = {\n",
        "    1: \"① 전혀 만족하지 않는다\",\n",
        "    2: \"② 별로 만족하지 않는다\",\n",
        "    3: \"③ 조금 만족하지 않는다\",\n",
        "    4: \"④ 보통\",\n",
        "    5: \"⑤ 약간 만족한다\",\n",
        "    6: \"⑥ 만족한다\",\n",
        "    7: \"⑦ 매우 만족한다\"\n",
        "}\n",
        "\n",
        "\n",
        "print(f'수원시 환경만족도 - 복지환경')\n",
        "\n",
        "for code, label in label_map9.items():\n",
        "    count = count_result.get(code, 0)\n",
        "    print(f\"{label}: {count}명\")"
      ],
      "metadata": {
        "colab": {
          "base_uri": "https://localhost:8080/"
        },
        "id": "YLW6688keRag",
        "outputId": "97b9681b-5878-4560-ce59-3c38d4acac7d"
      },
      "execution_count": 21,
      "outputs": [
        {
          "output_type": "stream",
          "name": "stdout",
          "text": [
            "수원시 환경만족도 - 복지환경\n",
            "① 전혀 만족하지 않는다: 0명\n",
            "② 별로 만족하지 않는다: 0명\n",
            "③ 조금 만족하지 않는다: 6명\n",
            "④ 보통: 51명\n",
            "⑤ 약간 만족한다: 72명\n",
            "⑥ 만족한다: 26명\n",
            "⑦ 매우 만족한다: 2명\n"
          ]
        }
      ]
    },
    {
      "cell_type": "markdown",
      "source": [
        "수원시 환경만족도 - 생활환경(행정복지센터, 은행, 상점 등)"
      ],
      "metadata": {
        "id": "_Kvu9OBYgEYo"
      }
    },
    {
      "cell_type": "code",
      "source": [
        "question_code10 = \"Q3a3\"\n",
        "\n",
        "code_row10 = only1_youth23.iloc[0]\n",
        "target_col10 = code_row10[code_row10 == question_code10].index[0]\n",
        "\n",
        "\n",
        "response_series = only1_youth23[target_col10].iloc[1:]\n",
        "count_result = response_series.value_counts().sort_index()\n",
        "\n",
        "\n",
        "label_map10 = {\n",
        "    1: \"① 전혀 만족하지 않는다\",\n",
        "    2: \"② 별로 만족하지 않는다\",\n",
        "    3: \"③ 조금 만족하지 않는다\",\n",
        "    4: \"④ 보통\",\n",
        "    5: \"⑤ 약간 만족한다\",\n",
        "    6: \"⑥ 만족한다\",\n",
        "    7: \"⑦ 매우 만족한다\"\n",
        "}\n",
        "\n",
        "\n",
        "print(f'수원시 환경만족도 - 생활환경(행정복지센터, 은행, 상점 등)')\n",
        "\n",
        "for code, label in label_map10.items():\n",
        "    count = count_result.get(code, 0)\n",
        "    print(f\"{label}: {count}명\")"
      ],
      "metadata": {
        "colab": {
          "base_uri": "https://localhost:8080/"
        },
        "id": "Y1JR82irf3pL",
        "outputId": "155c123b-0c69-49b3-952f-0343a8997356"
      },
      "execution_count": 22,
      "outputs": [
        {
          "output_type": "stream",
          "name": "stdout",
          "text": [
            "수원시 환경만족도 - 생활환경(행정복지센터, 은행, 상점 등)\n",
            "① 전혀 만족하지 않는다: 0명\n",
            "② 별로 만족하지 않는다: 0명\n",
            "③ 조금 만족하지 않는다: 14명\n",
            "④ 보통: 30명\n",
            "⑤ 약간 만족한다: 76명\n",
            "⑥ 만족한다: 34명\n",
            "⑦ 매우 만족한다: 3명\n"
          ]
        }
      ]
    },
    {
      "cell_type": "markdown",
      "source": [
        "수원시 환경만족도 - 안전환경"
      ],
      "metadata": {
        "id": "lxQtSIsEhAt_"
      }
    },
    {
      "cell_type": "code",
      "source": [
        "question_code11 = \"Q3a7\"\n",
        "\n",
        "code_row11 = only1_youth23.iloc[0]\n",
        "target_col11 = code_row11[code_row11 == question_code11].index[0]\n",
        "\n",
        "\n",
        "response_series = only1_youth23[target_col11].iloc[1:]\n",
        "count_result = response_series.value_counts().sort_index()\n",
        "\n",
        "\n",
        "label_map11 = {\n",
        "    1: \"① 전혀 만족하지 않는다\",\n",
        "    2: \"② 별로 만족하지 않는다\",\n",
        "    3: \"③ 조금 만족하지 않는다\",\n",
        "    4: \"④ 보통\",\n",
        "    5: \"⑤ 약간 만족한다\",\n",
        "    6: \"⑥ 만족한다\",\n",
        "    7: \"⑦ 매우 만족한다\"\n",
        "}\n",
        "\n",
        "\n",
        "print(f'수원시 환경만족도 - 안전환경')\n",
        "\n",
        "for code, label in label_map11.items():\n",
        "    count = count_result.get(code, 0)\n",
        "    print(f\"{label}: {count}명\")"
      ],
      "metadata": {
        "colab": {
          "base_uri": "https://localhost:8080/"
        },
        "id": "XwfyBrR0fqCu",
        "outputId": "9756c888-b1cc-45f4-f594-6d353b92c641"
      },
      "execution_count": 23,
      "outputs": [
        {
          "output_type": "stream",
          "name": "stdout",
          "text": [
            "수원시 환경만족도 - 안전환경\n",
            "① 전혀 만족하지 않는다: 0명\n",
            "② 별로 만족하지 않는다: 1명\n",
            "③ 조금 만족하지 않는다: 7명\n",
            "④ 보통: 47명\n",
            "⑤ 약간 만족한다: 69명\n",
            "⑥ 만족한다: 30명\n",
            "⑦ 매우 만족한다: 3명\n"
          ]
        }
      ]
    },
    {
      "cell_type": "markdown",
      "source": [
        "수원시 환경만족도 - 사회환경"
      ],
      "metadata": {
        "id": "RFu3EFSQhXUQ"
      }
    },
    {
      "cell_type": "code",
      "source": [
        "question_code12 = \"Q3a8\"\n",
        "\n",
        "code_row12 = only1_youth23.iloc[0]\n",
        "target_col12 = code_row12[code_row12 == question_code12].index[0]\n",
        "\n",
        "\n",
        "response_series = only1_youth23[target_col12].iloc[1:]\n",
        "count_result = response_series.value_counts().sort_index()\n",
        "\n",
        "\n",
        "label_map12 = {\n",
        "    1: \"① 전혀 만족하지 않는다\",\n",
        "    2: \"② 별로 만족하지 않는다\",\n",
        "    3: \"③ 조금 만족하지 않는다\",\n",
        "    4: \"④ 보통\",\n",
        "    5: \"⑤ 약간 만족한다\",\n",
        "    6: \"⑥ 만족한다\",\n",
        "    7: \"⑦ 매우 만족한다\"\n",
        "}\n",
        "\n",
        "\n",
        "print(f'수원시 환경만족도 - 사회환경')\n",
        "\n",
        "for code, label in label_map12.items():\n",
        "    count = count_result.get(code, 0)\n",
        "    print(f\"{label}: {count}명\")"
      ],
      "metadata": {
        "colab": {
          "base_uri": "https://localhost:8080/"
        },
        "id": "AQZE11dUhNjK",
        "outputId": "4f420934-8f43-4a9d-ac66-81447cb7eb21"
      },
      "execution_count": 24,
      "outputs": [
        {
          "output_type": "stream",
          "name": "stdout",
          "text": [
            "수원시 환경만족도 - 사회환경\n",
            "① 전혀 만족하지 않는다: 0명\n",
            "② 별로 만족하지 않는다: 0명\n",
            "③ 조금 만족하지 않는다: 13명\n",
            "④ 보통: 54명\n",
            "⑤ 약간 만족한다: 71명\n",
            "⑥ 만족한다: 17명\n",
            "⑦ 매우 만족한다: 2명\n"
          ]
        }
      ]
    },
    {
      "cell_type": "markdown",
      "source": [
        "1인 가구 대상, 수원시 내 여가생활 평가 - 나의 전반적인 여가생활에 만족한다"
      ],
      "metadata": {
        "id": "DG9qRAShhsZS"
      }
    },
    {
      "cell_type": "code",
      "source": [
        "question_code13 = \"Q35a1\"\n",
        "\n",
        "code_row13 = only1_youth23.iloc[0]\n",
        "target_col13 = code_row13[code_row13 == question_code13].index[0]\n",
        "\n",
        "\n",
        "response_series = only1_youth23[target_col13].iloc[1:]\n",
        "count_result = response_series.value_counts().sort_index()\n",
        "\n",
        "\n",
        "label_map13 = {\n",
        "    1: \"① 전혀 그렇지 않다\",\n",
        "    2: \"② 별로 그렇지 않다\",\n",
        "    3: \"③ 조금 그렇지 않다\",\n",
        "    4: \"④ 보통\",\n",
        "    5: \"⑤ 약간 그렇다\",\n",
        "    6: \"⑥ 그렇다\",\n",
        "    7: \"⑦ 매우 그렇다\"\n",
        "}\n",
        "\n",
        "\n",
        "print(f'나의 전반적인 여가생활에 만족한다')\n",
        "\n",
        "for code, label in label_map13.items():\n",
        "    count = count_result.get(code, 0)\n",
        "    print(f\"{label}: {count}명\")"
      ],
      "metadata": {
        "colab": {
          "base_uri": "https://localhost:8080/"
        },
        "id": "5PGPVdK9hXsD",
        "outputId": "6dda8699-0f21-4ac4-87ec-b98c975ee762"
      },
      "execution_count": 25,
      "outputs": [
        {
          "output_type": "stream",
          "name": "stdout",
          "text": [
            "나의 전반적인 여가생활에 만족한다\n",
            "① 전혀 그렇지 않다: 1명\n",
            "② 별로 그렇지 않다: 1명\n",
            "③ 조금 그렇지 않다: 18명\n",
            "④ 보통: 38명\n",
            "⑤ 약간 그렇다: 65명\n",
            "⑥ 그렇다: 31명\n",
            "⑦ 매우 그렇다: 3명\n"
          ]
        }
      ]
    },
    {
      "cell_type": "markdown",
      "source": [
        "1인 가구 수원 시민들의 수원시 정책 관심도"
      ],
      "metadata": {
        "id": "digT5tjii0Oz"
      }
    },
    {
      "cell_type": "code",
      "source": [
        "question_code14 = \"Q47\"\n",
        "\n",
        "code_row14 = only1_youth23.iloc[0]\n",
        "target_col14 = code_row14[code_row14 == question_code14].index[0]\n",
        "\n",
        "\n",
        "response_series = only1_youth23[target_col14].iloc[1:]\n",
        "count_result = response_series.value_counts().sort_index()\n",
        "\n",
        "\n",
        "label_map14 = {\n",
        "    1: \"① 전혀 없다\",\n",
        "    2: \"② 없는 편이다\",\n",
        "    3: \"③ 보통이다\",\n",
        "    4: \"④ 많은 편이다\",\n",
        "    5: \"⑤ 매우 많다\"\n",
        "}\n",
        "\n",
        "\n",
        "print(f'수원시 정책 관심도')\n",
        "\n",
        "for code, label in label_map14.items():\n",
        "    count = count_result.get(code, 0)\n",
        "    print(f\"{label}: {count}명\")"
      ],
      "metadata": {
        "colab": {
          "base_uri": "https://localhost:8080/"
        },
        "id": "T9PFGcfhiFDm",
        "outputId": "b021e284-7b23-4ef3-aa64-2648c7fd404e"
      },
      "execution_count": 26,
      "outputs": [
        {
          "output_type": "stream",
          "name": "stdout",
          "text": [
            "수원시 정책 관심도\n",
            "① 전혀 없다: 11명\n",
            "② 없는 편이다: 30명\n",
            "③ 보통이다: 95명\n",
            "④ 많은 편이다: 20명\n",
            "⑤ 매우 많다: 1명\n"
          ]
        }
      ]
    },
    {
      "cell_type": "code",
      "source": [],
      "metadata": {
        "id": "2NKk9uR-jMxa"
      },
      "execution_count": null,
      "outputs": []
    }
  ]
}